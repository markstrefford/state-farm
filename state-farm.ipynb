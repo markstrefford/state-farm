{
 "cells": [
  {
   "cell_type": "markdown",
   "metadata": {},
   "source": [
    "# Analysis of the State Farm image data\n",
    "\n",
    "This notebook provides analysis of the provided State Farm data, using Theano and Keras to build the NN.\n",
    "\n",
    "Note that the data is available from Kaggle here:  \n",
    "https://www.kaggle.com/c/state-farm-distracted-driver-detection/data\n"
   ]
  },
  {
   "cell_type": "markdown",
   "metadata": {},
   "source": [
    "## Set up the environment\n",
    "First, let's import what we need and set up environment variables, etc."
   ]
  },
  {
   "cell_type": "code",
   "execution_count": 2,
   "metadata": {
    "collapsed": false,
    "scrolled": true
   },
   "outputs": [
    {
     "ename": "Exception",
     "evalue": "Can't change the value of this config parameter after initialization!",
     "output_type": "error",
     "traceback": [
      "\u001b[0;31m---------------------------------------------------------------------------\u001b[0m",
      "\u001b[0;31mException\u001b[0m                                 Traceback (most recent call last)",
      "\u001b[0;32m<ipython-input-2-e246e7cb99d9>\u001b[0m in \u001b[0;36m<module>\u001b[0;34m()\u001b[0m\n\u001b[1;32m      1\u001b[0m \u001b[0;32mimport\u001b[0m \u001b[0mtheano\u001b[0m\u001b[0;34m\u001b[0m\u001b[0m\n\u001b[0;32m----> 2\u001b[0;31m \u001b[0mtheano\u001b[0m\u001b[0;34m.\u001b[0m\u001b[0mconfig\u001b[0m\u001b[0;34m.\u001b[0m\u001b[0mdevice\u001b[0m \u001b[0;34m=\u001b[0m \u001b[0;34m'gpu'\u001b[0m\u001b[0;34m\u001b[0m\u001b[0m\n\u001b[0m\u001b[1;32m      3\u001b[0m \u001b[0mtheano\u001b[0m\u001b[0;34m.\u001b[0m\u001b[0mconfig\u001b[0m\u001b[0;34m.\u001b[0m\u001b[0mfloatX\u001b[0m \u001b[0;34m=\u001b[0m \u001b[0;34m'float32'\u001b[0m\u001b[0;34m\u001b[0m\u001b[0m\n",
      "\u001b[0;32m/usr/local/lib/python2.7/site-packages/theano/configparser.pyc\u001b[0m in \u001b[0;36m__set__\u001b[0;34m(self, cls, val)\u001b[0m\n\u001b[1;32m    329\u001b[0m         \u001b[0;32mif\u001b[0m \u001b[0;32mnot\u001b[0m \u001b[0mself\u001b[0m\u001b[0;34m.\u001b[0m\u001b[0mallow_override\u001b[0m \u001b[0;32mand\u001b[0m \u001b[0mhasattr\u001b[0m\u001b[0;34m(\u001b[0m\u001b[0mself\u001b[0m\u001b[0;34m,\u001b[0m \u001b[0;34m'val'\u001b[0m\u001b[0;34m)\u001b[0m\u001b[0;34m:\u001b[0m\u001b[0;34m\u001b[0m\u001b[0m\n\u001b[1;32m    330\u001b[0m             raise Exception(\n\u001b[0;32m--> 331\u001b[0;31m                 \u001b[0;34m\"Can't change the value of this config parameter \"\u001b[0m\u001b[0;34m\u001b[0m\u001b[0m\n\u001b[0m\u001b[1;32m    332\u001b[0m                 \"after initialization!\")\n\u001b[1;32m    333\u001b[0m         \u001b[0;31m# print \"SETTING PARAM\", self.fullname,(cls), val\u001b[0m\u001b[0;34m\u001b[0m\u001b[0;34m\u001b[0m\u001b[0m\n",
      "\u001b[0;31mException\u001b[0m: Can't change the value of this config parameter after initialization!"
     ]
    }
   ],
   "source": [
    "import theano\n",
    "theano.config.device = 'gpu'\n",
    "theano.config.floatX = 'float32'"
   ]
  },
  {
   "cell_type": "code",
   "execution_count": 3,
   "metadata": {
    "collapsed": false
   },
   "outputs": [],
   "source": [
    "# Imports of the relevant libraries\n",
    "import numpy as np\n",
    "import pandas as pd\n",
    "import os\n",
    "import sys\n",
    "import matplotlib.pyplot as plt\n",
    "# display plots in this notebook\n",
    "%matplotlib inline\n",
    "\n",
    "# These are the locations of the images provided by Kaggle\n",
    "# Root Dir is needed for Python, but not for create lmdb shell script later... (we need it there too!)\n",
    "image_root_dir = './imgs/'\n",
    "train_image_source_dir = \"./train/\"\n",
    "test_image_source_dir = \"./test/\"\n",
    "driver_image_list = \"./driver_imgs_list.csv\"\n",
    "\n",
    "# These are the locations of the images that we will work with \n",
    "# Note that as we're continually mix up training and validation drivers/images, \n",
    "# then we will store images in one directory and use code to determine whether to train or validate\n",
    "train_images_dir = \"./images/train/\"\n",
    "#validation_images_dir = \"./images/validate/\" \n",
    "test_images_dir = \"./images/test/\"\n",
    "\n",
    "# Some more controls\n",
    "# color type: 1 - grey, 3 - rgb\n",
    "color_type = 1 \n",
    "image_width = 224 #80\n",
    "image_height = 224 #60"
   ]
  },
  {
   "cell_type": "markdown",
   "metadata": {},
   "source": [
    "## Start by pre-processing the images\n",
    "There are only 27 different drivers so in order to avoid overfitting, or testing using very similar data to training, we will split the data based on the driver into train and validation sets.\n",
    "\n",
    "Initially though, let's get the list of drivers, see how many images are available for each driver, and which classification they have been labelled with.\n"
   ]
  },
  {
   "cell_type": "code",
   "execution_count": 4,
   "metadata": {
    "collapsed": false
   },
   "outputs": [
    {
     "name": "stdout",
     "output_type": "stream",
     "text": [
      "Training data summary: \n",
      "  subject classname            img\n",
      "0    p002        c0  img_44733.jpg\n",
      "1    p002        c0  img_72999.jpg\n",
      "2    p002        c0  img_25094.jpg\n",
      "3    p002        c0  img_69092.jpg\n",
      "4    p002        c0  img_92629.jpg\n",
      "\n",
      "Testing data summary: \n",
      "['img_1.jpg', 'img_10.jpg', 'img_100.jpg', 'img_1000.jpg', 'img_100000.jpg', 'img_100001.jpg', 'img_100002.jpg', 'img_100003.jpg', 'img_100004.jpg']\n"
     ]
    }
   ],
   "source": [
    "# Training set is in the provided csv file\n",
    "driver_list = pd.read_csv(driver_image_list)\n",
    "print \"Training data summary: \\n{}\".format(driver_list.head())\n",
    "\n",
    "test_image_list = os.listdir(image_root_dir + test_image_source_dir)\n",
    "print \"\\nTesting data summary: \\n{}\".format(test_image_list[0:9])"
   ]
  },
  {
   "cell_type": "markdown",
   "metadata": {},
   "source": [
    "Process images so that they are in an format more suited to training and testing"
   ]
  },
  {
   "cell_type": "code",
   "execution_count": 5,
   "metadata": {
    "collapsed": false
   },
   "outputs": [
    {
     "name": "stdout",
     "output_type": "stream",
     "text": [
      "Total number of training images found 22424\n"
     ]
    }
   ],
   "source": [
    "def get_driver_images_and_classes(driver_list):\n",
    "    image_list = []\n",
    "    class_list = []\n",
    "    total = 0\n",
    "    for driver_row in [ drvr for drvr in driver_list.iterrows() ]:   # if drvr[1]['subject'] in filter \n",
    "        driver = driver_row[1]  # Drop the index created by the Pandas Dataframe\n",
    "        driver_class = int(driver['classname'][1:])  # Get integer to represent class (eg 'c0' is class '0')\n",
    "        image_list.append(driver['img'])\n",
    "        class_list.append(driver_class)\n",
    "        total += 1\n",
    "    print \"Total number of training images found {}\".format(total)\n",
    "    #Return a list of images and their classification\n",
    "    return np.array(image_list), np.array(class_list)\n",
    "\n",
    "# Create a training list of images and classes from the training set\n",
    "images, classes = get_driver_images_and_classes(driver_list)"
   ]
  },
  {
   "cell_type": "code",
   "execution_count": 6,
   "metadata": {
    "collapsed": false
   },
   "outputs": [],
   "source": [
    "import cv2\n",
    "\n",
    "# Process the image, for now this is resize only\n",
    "# We'll handle colour/greyscale when we load as cv2 does this for us\n",
    "# TODO - Move directory creation to Python code to be OS independent\n",
    "\n",
    "def pre_process_image(image):\n",
    "    processed_img = cv2.resize(image, (image_width, image_height)) \n",
    "    return processed_img\n",
    "    \n",
    "def create_train_image_repository(images_dest_dir, images_list, class_list, color_type=1):\n",
    "    print \"create_image_repository(): Processing images into {}\".format(images_dest_dir)\n",
    "    copied = 0 \n",
    "    for f, c in zip(images_list, class_list):\n",
    "        dest_dir = images_dest_dir + str(c) + \"/\"\n",
    "        if os.path.exists(dest_dir) == False:\n",
    "            !mkdir $dest_dir\n",
    "        image_filename = image_root_dir + train_image_source_dir + '/c' + str(c) + '/' + f\n",
    "        if color_type == 1:\n",
    "            orig_img = cv2.imread(image_filename, 0)\n",
    "        elif color_type == 3:\n",
    "            orig_img = cv2.imread(image_filename)\n",
    "        processed_image = pre_process_image(orig_img)\n",
    "        cv2.imwrite(images_dest_dir + str(c) + \"/\" + f, processed_image)\n",
    "        copied += 1\n",
    "        if copied % 100 == 0:\n",
    "            print \".\",\n",
    "    print \"\\nCopied {} images...Done!\".format(copied)\n",
    "    return copied\n",
    "\n",
    "def create_test_image_repository(dest_dir, images_list, color_type=1):\n",
    "    print \"create_image_repository(): Processing images into {}\".format(dest_dir)\n",
    "    copied = 0 \n",
    "    for f in images_list:\n",
    "        if os.path.exists(dest_dir) == False:\n",
    "            !mkdir $dest_dir\n",
    "        image_filename = image_root_dir + test_image_source_dir + f\n",
    "        if color_type == 1:\n",
    "            orig_img = cv2.imread(image_filename, 0)\n",
    "        elif color_type == 3:\n",
    "            orig_img = cv2.imread(image_filename)\n",
    "        processed_image = pre_process_image(orig_img)\n",
    "        cv2.imwrite(dest_dir + f, processed_image)\n",
    "        copied += 1\n",
    "        if copied % 100 == 0:\n",
    "            print \".\",\n",
    "    print \"\\nCopied {} images...Done!\".format(copied)\n",
    "    return copied"
   ]
  },
  {
   "cell_type": "markdown",
   "metadata": {},
   "source": [
    "## Pre-process images if required"
   ]
  },
  {
   "cell_type": "code",
   "execution_count": 8,
   "metadata": {
    "collapsed": false,
    "scrolled": true
   },
   "outputs": [],
   "source": [
    "# Start by clearing out any old data (ignore failures here if the directory doesn't exist)\n",
    "# TODO - Move to Python code to be OS independent\n",
    "\n",
    "create_repository = False    # True forces creation of the processed images, \n",
    "                            # Set to False if this has been done previously\n",
    "if create_repository:\n",
    "    print \"Deleting old repositories if they exist, this may take a while...\"\n",
    "    !rm -rf $train_images_dir\n",
    "    #!rm -rf $validation_images_dir\n",
    "    !rm -rf $test_images_dir\n",
    "\n",
    "    # Create directories\n",
    "    !mkdir -p $train_images_dir\n",
    "    #!mkdir -p $validation_images_dir\n",
    "    !mkdir -p $test_images_dir\n",
    "\n",
    "    create_test_image_repository(test_images_dir, test_image_list, color_type=color_type)\n",
    "    create_train_image_repository(train_images_dir, images, classes, color_type=color_type)\n"
   ]
  },
  {
   "cell_type": "markdown",
   "metadata": {},
   "source": [
    "## Create train and validation data sets"
   ]
  },
  {
   "cell_type": "markdown",
   "metadata": {},
   "source": [
    "Seperate the drivers into a training and validation set.  To ensure we don't have overfitting (the training set and the validation set contain the same or similar images) we will split on drivers, so a driver can only appear in training or validation but not both.\n"
   ]
  },
  {
   "cell_type": "code",
   "execution_count": 9,
   "metadata": {
    "collapsed": false
   },
   "outputs": [
    {
     "name": "stdout",
     "output_type": "stream",
     "text": [
      "Found 26 drivers: ['p002', 'p012', 'p014', 'p015', 'p016', 'p021', 'p022', 'p024', 'p026', 'p035', 'p039', 'p041', 'p042', 'p045', 'p047', 'p049', 'p050', 'p051', 'p052', 'p056', 'p061', 'p064', 'p066', 'p072', 'p075', 'p081']\n"
     ]
    }
   ],
   "source": [
    "driver_ids = []\n",
    "for id, driver in driver_list.iterrows():\n",
    "    if driver['subject'] not in driver_ids:\n",
    "        driver_ids.append(driver['subject'])\n",
    "print \"Found {} drivers: {}\".format(len(driver_ids), driver_ids)"
   ]
  },
  {
   "cell_type": "code",
   "execution_count": 11,
   "metadata": {
    "collapsed": false
   },
   "outputs": [],
   "source": [
    "def render_image(image_filename):\n",
    "    print \"render_image(): Rendering {}\".format(image_filename)\n",
    "    image = cv2.imread(image_filename, color_type_global)\n",
    "    plt.axis(\"off\")\n",
    "    #plt.imshow(cv2.cvtColor(image, cv2.COLOR_BGR2RGB))\n",
    "    plt.imshow(image)\n",
    "    plt.show() \n",
    "    #print image.shape\n",
    "    #plt.imshow(image)"
   ]
  },
  {
   "cell_type": "code",
   "execution_count": 12,
   "metadata": {
    "collapsed": false
   },
   "outputs": [
    {
     "name": "stdout",
     "output_type": "stream",
     "text": [
      "Creating training data:\n",
      ". . . . . . . . . . . . . . . . . . . . . . . . . . . . . . . . . . . . . . . . . . . . . . . . . . . . . . . . . . . . . . . . . . . . . . . . . . . . . . . . . . . . . . . . . . . . . . . . . . . . . . . . . . . . . . . . . . . . . . . . . . . . . . . . . . . . . . . . . . . . . . . . . . . . . . . . . . . . . . . . . . . . . . . . . . . . . . . . . . . . . . . . . . . . . . . . . . . . . . . . . . . . . \n",
      "Processed 20503 rows.\n",
      "Creating validation data:\n",
      ". . . . . . . . . . . . . . . . . . . \n",
      "Processed 1921 rows.\n"
     ]
    },
    {
     "name": "stderr",
     "output_type": "stream",
     "text": [
      "Using Theano backend.\n"
     ]
    }
   ],
   "source": [
    "from keras.utils import np_utils\n",
    "\n",
    "def create_train_validation_data(driver_list, filter):\n",
    "    #sample = driver_list[driver_list.subject.isin(filter)].ix[:, 'classname':'img']\n",
    "    images = []\n",
    "    labels = []\n",
    "    total = 0\n",
    "    for driver_row in [ drvr for drvr in driver_list[driver_list.subject.isin(filter)].ix[:, 'classname':'img'].iterrows() ]:   # if drvr[1]['subject'] in filter \n",
    "        driver = driver_row[1]  # Drop the index created by the Pandas Dataframe\n",
    "        #print driver\n",
    "        label = int(driver['classname'][1:])\n",
    "        filename = train_images_dir + str(label) + \"/\" + driver['img']\n",
    "        if color_type == 1:\n",
    "            image = cv2.imread(filename, 0).transpose()  # Is the color_type needed here as these are pre-processed images??\n",
    "        elif color_type == 3:\n",
    "            image = cv2.imread(filename).transpose()     # Is the color_type needed here as these are pre-processed images??\n",
    "        images.append(image)\n",
    "        labels.append(label)\n",
    "        total += 1\n",
    "        if total % 100 == 0:\n",
    "            print \".\",\n",
    "    print \"\\nProcessed {} rows.\".format(total)\n",
    "    \n",
    "    images = np.array(images, dtype=np.uint8)\n",
    "    images = images.reshape(images.shape[0], color_type, image_width, image_height)\n",
    "    images = images.astype('float32')\n",
    "    images /= 255\n",
    "    \n",
    "    labels = np.array(labels, dtype=np.uint8)\n",
    "    labels = np_utils.to_categorical(labels, 10)\n",
    "\n",
    "    return images, labels\n",
    "\n"
   ]
  },
  {
   "cell_type": "markdown",
   "metadata": {},
   "source": [
    "## Create an inital CNN using Keras\n",
    "Starting with no pre-loaded weights though as we'll train this with our own data.\n",
    "Based on example here http://keras.io\n",
    "\n",
    "TODO: In a future iteration, we'll play about with this architecture and the activation, optimizer and loss functions"
   ]
  },
  {
   "cell_type": "code",
   "execution_count": 32,
   "metadata": {
    "collapsed": false,
    "scrolled": false
   },
   "outputs": [],
   "source": [
    "from keras.models import Sequential\n",
    "from keras.layers.core import Flatten, Dense, Dropout\n",
    "from keras.layers.convolutional import Convolution2D, MaxPooling2D, ZeroPadding2D  \n",
    "from keras.layers import Dense, Flatten, Activation, Dropout, MaxPooling1D\n",
    "from keras.optimizers import Adam, SGD"
   ]
  },
  {
   "cell_type": "markdown",
   "metadata": {},
   "source": [
    "###Custom Keras Model"
   ]
  },
  {
   "cell_type": "code",
   "execution_count": 82,
   "metadata": {
    "collapsed": false
   },
   "outputs": [],
   "source": [
    "def custom_keras_model(num_classes, weights_path=None):\n",
    "    num_filters = 8      #number of filters to apply/learn in the 1D convolutional layer\n",
    "    num_pooling = 2\n",
    "    filter_length = 5     #linear length of each filter (this is 1D)\n",
    "    num_filters_2 = 8\n",
    "\n",
    "    #num_filters = 8      #number of filters to apply/learn in the 1D convolutional layer\n",
    "    #num_pooling = 2\n",
    "    #filter_length = 2     #linear length of each filter (this is 1D)\n",
    "    #num_filters_2 = 16\n",
    "    \n",
    "    # Create callback for history report\n",
    "    from keras.callbacks import Callback\n",
    "    class LossHistory(Callback):\n",
    "        def on_train_begin(self, logs={}):\n",
    "            self.losses = []\n",
    "\n",
    "        def on_batch_end(self, batch, logs={}):\n",
    "            self.losses.append(logs.get('loss'))\n",
    "    \n",
    "    \n",
    "    #from keras.utils.dot_utils import Grapher\n",
    "    \n",
    "    model = Sequential()\n",
    "    #grapher = Grapher()\n",
    "\n",
    "    # Now create the NN architecture (version 1)\n",
    "    # Going with colour for now!!\n",
    "    model.add(Convolution2D(num_filters, filter_length, filter_length, border_mode=\"valid\", \n",
    "                        activation=\"relu\", \n",
    "                        input_shape=(color_type, image_width, image_height)))\n",
    "    \n",
    "    # Added\n",
    "    model.add(MaxPooling2D(pool_size=(num_pooling, num_pooling)))  \n",
    "    model.add(Dropout(0.25))\n",
    "    \n",
    "    model.add(Convolution2D(num_filters_2, filter_length, filter_length))\n",
    "    model.add(Activation('relu'))\n",
    "    model.add(MaxPooling2D(pool_size=(num_pooling, num_pooling)))\n",
    "    model.add(Dropout(0.25))\n",
    "\n",
    "    model.add(Flatten())\n",
    "    model.add(Dense(128))\n",
    "    model.add(Activation('relu'))\n",
    "    model.add(Dropout(0.5))\n",
    "    model.add(Dense(num_classes))\n",
    "    model.add(Activation('softmax'))\n",
    "    \n",
    "    if weights_path:\n",
    "        print \"Loading weights from {}\".format(weights_path)\n",
    "        model.load_weights(weights_path)\n",
    "        \n",
    "\n",
    "    #model.summary()\n",
    "    #grapher.plot(model, 'nn_model.png')\n",
    "    \n",
    "    # TODO - Handle loading existing weights \n",
    "    \n",
    "    return model, LossHistory"
   ]
  },
  {
   "cell_type": "markdown",
   "metadata": {},
   "source": [
    "Determine which NN we are going to use, and whether to load weights or train ourselves"
   ]
  },
  {
   "cell_type": "code",
   "execution_count": 102,
   "metadata": {
    "collapsed": false
   },
   "outputs": [],
   "source": [
    "keras_model, weights, train_model = 'custom', None, True\n",
    "#keras_model, weights, train_model = 'vgg16', 'model/vgg16_weights.h5', False\n",
    "loss_function='categorical_crossentropy'\n",
    "num_classes = 10"
   ]
  },
  {
   "cell_type": "code",
   "execution_count": 111,
   "metadata": {
    "collapsed": false
   },
   "outputs": [],
   "source": [
    "#Configure the network\n",
    "\n",
    "if keras_model == 'custom':\n",
    "    model, LossHistory = custom_keras_model(num_classes, weights)\n",
    "    #sgd = SGD(lr=0.1, decay=0, momentum=0, nesterov=False)\n",
    "    sgd = SGD(lr=0.1, decay=1e-6, momentum=0.9, nesterov=True)\n",
    "elif keras_model == 'vgg16':\n",
    "    model, LossHistory = vgg16(num_classes, weights)\n",
    "    sgd = SGD(lr=0.1, decay=1e-6, momentum=0.9, nesterov=True)\n",
    "\n",
    "# Now compile the model\n",
    "model.compile(loss=loss_function, optimizer=sgd, metrics=['accuracy'])\n"
   ]
  },
  {
   "cell_type": "code",
   "execution_count": 112,
   "metadata": {
    "collapsed": false,
    "scrolled": false
   },
   "outputs": [
    {
     "name": "stdout",
     "output_type": "stream",
     "text": [
      "____________________________________________________________________________________________________\n",
      "Layer (type)                     Output Shape          Param #     Connected to                     \n",
      "====================================================================================================\n",
      "convolution2d_25 (Convolution2D) (None, 8, 220, 220)   208         convolution2d_input_13[0][0]     \n",
      "____________________________________________________________________________________________________\n",
      "maxpooling2d_24 (MaxPooling2D)   (None, 8, 110, 110)   0           convolution2d_25[0][0]           \n",
      "____________________________________________________________________________________________________\n",
      "dropout_36 (Dropout)             (None, 8, 110, 110)   0           maxpooling2d_24[0][0]            \n",
      "____________________________________________________________________________________________________\n",
      "convolution2d_26 (Convolution2D) (None, 8, 106, 106)   1608        dropout_36[0][0]                 \n",
      "____________________________________________________________________________________________________\n",
      "activation_37 (Activation)       (None, 8, 106, 106)   0           convolution2d_26[0][0]           \n",
      "____________________________________________________________________________________________________\n",
      "maxpooling2d_25 (MaxPooling2D)   (None, 8, 53, 53)     0           activation_37[0][0]              \n",
      "____________________________________________________________________________________________________\n",
      "dropout_37 (Dropout)             (None, 8, 53, 53)     0           maxpooling2d_25[0][0]            \n",
      "____________________________________________________________________________________________________\n",
      "flatten_13 (Flatten)             (None, 22472)         0           dropout_37[0][0]                 \n",
      "____________________________________________________________________________________________________\n",
      "dense_25 (Dense)                 (None, 128)           2876544     flatten_13[0][0]                 \n",
      "____________________________________________________________________________________________________\n",
      "activation_38 (Activation)       (None, 128)           0           dense_25[0][0]                   \n",
      "____________________________________________________________________________________________________\n",
      "dropout_38 (Dropout)             (None, 128)           0           activation_38[0][0]              \n",
      "____________________________________________________________________________________________________\n",
      "dense_26 (Dense)                 (None, 10)            1290        dropout_38[0][0]                 \n",
      "____________________________________________________________________________________________________\n",
      "activation_39 (Activation)       (None, 10)            0           dense_26[0][0]                   \n",
      "====================================================================================================\n",
      "Total params: 2879650\n",
      "____________________________________________________________________________________________________\n"
     ]
    }
   ],
   "source": [
    "model.summary()"
   ]
  },
  {
   "cell_type": "code",
   "execution_count": 113,
   "metadata": {
    "collapsed": false
   },
   "outputs": [
    {
     "data": {
      "image/svg+xml": [
       "<svg height=\"994pt\" viewBox=\"0.00 0.00 236.68 994.00\" width=\"237pt\" xmlns=\"http://www.w3.org/2000/svg\" xmlns:xlink=\"http://www.w3.org/1999/xlink\">\n",
       "<g class=\"graph\" id=\"graph0\" transform=\"scale(1 1) rotate(0) translate(4 990)\">\n",
       "<title>G</title>\n",
       "<polygon fill=\"white\" points=\"-4,4 -4,-990 232.68,-990 232.68,4 -4,4\" stroke=\"none\"/>\n",
       "<!-- 4761421392 -->\n",
       "<g class=\"node\" id=\"node1\"><title>4761421392</title>\n",
       "<polygon fill=\"none\" points=\"0,-949.5 0,-985.5 228.68,-985.5 228.68,-949.5 0,-949.5\" stroke=\"black\"/>\n",
       "<text font-family=\"Times,serif\" font-size=\"14.00\" text-anchor=\"middle\" x=\"114.34\" y=\"-963.3\">convolution2d_input_13 (InputLayer)</text>\n",
       "</g>\n",
       "<!-- 4761421200 -->\n",
       "<g class=\"node\" id=\"node2\"><title>4761421200</title>\n",
       "<polygon fill=\"none\" points=\"5.42773,-876.5 5.42773,-912.5 223.252,-912.5 223.252,-876.5 5.42773,-876.5\" stroke=\"black\"/>\n",
       "<text font-family=\"Times,serif\" font-size=\"14.00\" text-anchor=\"middle\" x=\"114.34\" y=\"-890.3\">convolution2d_25 (Convolution2D)</text>\n",
       "</g>\n",
       "<!-- 4761421392&#45;&gt;4761421200 -->\n",
       "<g class=\"edge\" id=\"edge1\"><title>4761421392-&gt;4761421200</title>\n",
       "<path d=\"M114.34,-949.313C114.34,-941.289 114.34,-931.547 114.34,-922.569\" fill=\"none\" stroke=\"black\"/>\n",
       "<polygon fill=\"black\" points=\"117.84,-922.529 114.34,-912.529 110.84,-922.529 117.84,-922.529\" stroke=\"black\"/>\n",
       "</g>\n",
       "<!-- 4748484368 -->\n",
       "<g class=\"node\" id=\"node3\"><title>4748484368</title>\n",
       "<polygon fill=\"none\" points=\"5.81738,-803.5 5.81738,-839.5 222.862,-839.5 222.862,-803.5 5.81738,-803.5\" stroke=\"black\"/>\n",
       "<text font-family=\"Times,serif\" font-size=\"14.00\" text-anchor=\"middle\" x=\"114.34\" y=\"-817.3\">maxpooling2d_24 (MaxPooling2D)</text>\n",
       "</g>\n",
       "<!-- 4761421200&#45;&gt;4748484368 -->\n",
       "<g class=\"edge\" id=\"edge2\"><title>4761421200-&gt;4748484368</title>\n",
       "<path d=\"M114.34,-876.313C114.34,-868.289 114.34,-858.547 114.34,-849.569\" fill=\"none\" stroke=\"black\"/>\n",
       "<polygon fill=\"black\" points=\"117.84,-849.529 114.34,-839.529 110.84,-849.529 117.84,-849.529\" stroke=\"black\"/>\n",
       "</g>\n",
       "<!-- 4748607760 -->\n",
       "<g class=\"node\" id=\"node4\"><title>4748607760</title>\n",
       "<polygon fill=\"none\" points=\"44.3208,-730.5 44.3208,-766.5 184.359,-766.5 184.359,-730.5 44.3208,-730.5\" stroke=\"black\"/>\n",
       "<text font-family=\"Times,serif\" font-size=\"14.00\" text-anchor=\"middle\" x=\"114.34\" y=\"-744.3\">dropout_36 (Dropout)</text>\n",
       "</g>\n",
       "<!-- 4748484368&#45;&gt;4748607760 -->\n",
       "<g class=\"edge\" id=\"edge3\"><title>4748484368-&gt;4748607760</title>\n",
       "<path d=\"M114.34,-803.313C114.34,-795.289 114.34,-785.547 114.34,-776.569\" fill=\"none\" stroke=\"black\"/>\n",
       "<polygon fill=\"black\" points=\"117.84,-776.529 114.34,-766.529 110.84,-776.529 117.84,-776.529\" stroke=\"black\"/>\n",
       "</g>\n",
       "<!-- 4971048784 -->\n",
       "<g class=\"node\" id=\"node5\"><title>4971048784</title>\n",
       "<polygon fill=\"none\" points=\"5.42773,-657.5 5.42773,-693.5 223.252,-693.5 223.252,-657.5 5.42773,-657.5\" stroke=\"black\"/>\n",
       "<text font-family=\"Times,serif\" font-size=\"14.00\" text-anchor=\"middle\" x=\"114.34\" y=\"-671.3\">convolution2d_26 (Convolution2D)</text>\n",
       "</g>\n",
       "<!-- 4748607760&#45;&gt;4971048784 -->\n",
       "<g class=\"edge\" id=\"edge4\"><title>4748607760-&gt;4971048784</title>\n",
       "<path d=\"M114.34,-730.313C114.34,-722.289 114.34,-712.547 114.34,-703.569\" fill=\"none\" stroke=\"black\"/>\n",
       "<polygon fill=\"black\" points=\"117.84,-703.529 114.34,-693.529 110.84,-703.529 117.84,-703.529\" stroke=\"black\"/>\n",
       "</g>\n",
       "<!-- 4748925072 -->\n",
       "<g class=\"node\" id=\"node6\"><title>4748925072</title>\n",
       "<polygon fill=\"none\" points=\"32.2793,-584.5 32.2793,-620.5 196.4,-620.5 196.4,-584.5 32.2793,-584.5\" stroke=\"black\"/>\n",
       "<text font-family=\"Times,serif\" font-size=\"14.00\" text-anchor=\"middle\" x=\"114.34\" y=\"-598.3\">activation_37 (Activation)</text>\n",
       "</g>\n",
       "<!-- 4971048784&#45;&gt;4748925072 -->\n",
       "<g class=\"edge\" id=\"edge5\"><title>4971048784-&gt;4748925072</title>\n",
       "<path d=\"M114.34,-657.313C114.34,-649.289 114.34,-639.547 114.34,-630.569\" fill=\"none\" stroke=\"black\"/>\n",
       "<polygon fill=\"black\" points=\"117.84,-630.529 114.34,-620.529 110.84,-630.529 117.84,-630.529\" stroke=\"black\"/>\n",
       "</g>\n",
       "<!-- 4748925328 -->\n",
       "<g class=\"node\" id=\"node7\"><title>4748925328</title>\n",
       "<polygon fill=\"none\" points=\"5.81738,-511.5 5.81738,-547.5 222.862,-547.5 222.862,-511.5 5.81738,-511.5\" stroke=\"black\"/>\n",
       "<text font-family=\"Times,serif\" font-size=\"14.00\" text-anchor=\"middle\" x=\"114.34\" y=\"-525.3\">maxpooling2d_25 (MaxPooling2D)</text>\n",
       "</g>\n",
       "<!-- 4748925072&#45;&gt;4748925328 -->\n",
       "<g class=\"edge\" id=\"edge6\"><title>4748925072-&gt;4748925328</title>\n",
       "<path d=\"M114.34,-584.313C114.34,-576.289 114.34,-566.547 114.34,-557.569\" fill=\"none\" stroke=\"black\"/>\n",
       "<polygon fill=\"black\" points=\"117.84,-557.529 114.34,-547.529 110.84,-557.529 117.84,-557.529\" stroke=\"black\"/>\n",
       "</g>\n",
       "<!-- 4971448144 -->\n",
       "<g class=\"node\" id=\"node8\"><title>4971448144</title>\n",
       "<polygon fill=\"none\" points=\"44.3208,-438.5 44.3208,-474.5 184.359,-474.5 184.359,-438.5 44.3208,-438.5\" stroke=\"black\"/>\n",
       "<text font-family=\"Times,serif\" font-size=\"14.00\" text-anchor=\"middle\" x=\"114.34\" y=\"-452.3\">dropout_37 (Dropout)</text>\n",
       "</g>\n",
       "<!-- 4748925328&#45;&gt;4971448144 -->\n",
       "<g class=\"edge\" id=\"edge7\"><title>4748925328-&gt;4971448144</title>\n",
       "<path d=\"M114.34,-511.313C114.34,-503.289 114.34,-493.547 114.34,-484.569\" fill=\"none\" stroke=\"black\"/>\n",
       "<polygon fill=\"black\" points=\"117.84,-484.529 114.34,-474.529 110.84,-484.529 117.84,-484.529\" stroke=\"black\"/>\n",
       "</g>\n",
       "<!-- 4749030864 -->\n",
       "<g class=\"node\" id=\"node9\"><title>4749030864</title>\n",
       "<polygon fill=\"none\" points=\"52.4897,-365.5 52.4897,-401.5 176.19,-401.5 176.19,-365.5 52.4897,-365.5\" stroke=\"black\"/>\n",
       "<text font-family=\"Times,serif\" font-size=\"14.00\" text-anchor=\"middle\" x=\"114.34\" y=\"-379.3\">flatten_13 (Flatten)</text>\n",
       "</g>\n",
       "<!-- 4971448144&#45;&gt;4749030864 -->\n",
       "<g class=\"edge\" id=\"edge8\"><title>4971448144-&gt;4749030864</title>\n",
       "<path d=\"M114.34,-438.313C114.34,-430.289 114.34,-420.547 114.34,-411.569\" fill=\"none\" stroke=\"black\"/>\n",
       "<polygon fill=\"black\" points=\"117.84,-411.529 114.34,-401.529 110.84,-411.529 117.84,-411.529\" stroke=\"black\"/>\n",
       "</g>\n",
       "<!-- 4749032976 -->\n",
       "<g class=\"node\" id=\"node10\"><title>4749032976</title>\n",
       "<polygon fill=\"none\" points=\"55.9966,-292.5 55.9966,-328.5 172.683,-328.5 172.683,-292.5 55.9966,-292.5\" stroke=\"black\"/>\n",
       "<text font-family=\"Times,serif\" font-size=\"14.00\" text-anchor=\"middle\" x=\"114.34\" y=\"-306.3\">dense_25 (Dense)</text>\n",
       "</g>\n",
       "<!-- 4749030864&#45;&gt;4749032976 -->\n",
       "<g class=\"edge\" id=\"edge9\"><title>4749030864-&gt;4749032976</title>\n",
       "<path d=\"M114.34,-365.313C114.34,-357.289 114.34,-347.547 114.34,-338.569\" fill=\"none\" stroke=\"black\"/>\n",
       "<polygon fill=\"black\" points=\"117.84,-338.529 114.34,-328.529 110.84,-338.529 117.84,-338.529\" stroke=\"black\"/>\n",
       "</g>\n",
       "<!-- 4749075792 -->\n",
       "<g class=\"node\" id=\"node11\"><title>4749075792</title>\n",
       "<polygon fill=\"none\" points=\"32.2793,-219.5 32.2793,-255.5 196.4,-255.5 196.4,-219.5 32.2793,-219.5\" stroke=\"black\"/>\n",
       "<text font-family=\"Times,serif\" font-size=\"14.00\" text-anchor=\"middle\" x=\"114.34\" y=\"-233.3\">activation_38 (Activation)</text>\n",
       "</g>\n",
       "<!-- 4749032976&#45;&gt;4749075792 -->\n",
       "<g class=\"edge\" id=\"edge10\"><title>4749032976-&gt;4749075792</title>\n",
       "<path d=\"M114.34,-292.313C114.34,-284.289 114.34,-274.547 114.34,-265.569\" fill=\"none\" stroke=\"black\"/>\n",
       "<polygon fill=\"black\" points=\"117.84,-265.529 114.34,-255.529 110.84,-265.529 117.84,-265.529\" stroke=\"black\"/>\n",
       "</g>\n",
       "<!-- 4749111760 -->\n",
       "<g class=\"node\" id=\"node12\"><title>4749111760</title>\n",
       "<polygon fill=\"none\" points=\"44.3208,-146.5 44.3208,-182.5 184.359,-182.5 184.359,-146.5 44.3208,-146.5\" stroke=\"black\"/>\n",
       "<text font-family=\"Times,serif\" font-size=\"14.00\" text-anchor=\"middle\" x=\"114.34\" y=\"-160.3\">dropout_38 (Dropout)</text>\n",
       "</g>\n",
       "<!-- 4749075792&#45;&gt;4749111760 -->\n",
       "<g class=\"edge\" id=\"edge11\"><title>4749075792-&gt;4749111760</title>\n",
       "<path d=\"M114.34,-219.313C114.34,-211.289 114.34,-201.547 114.34,-192.569\" fill=\"none\" stroke=\"black\"/>\n",
       "<polygon fill=\"black\" points=\"117.84,-192.529 114.34,-182.529 110.84,-192.529 117.84,-192.529\" stroke=\"black\"/>\n",
       "</g>\n",
       "<!-- 4749114768 -->\n",
       "<g class=\"node\" id=\"node13\"><title>4749114768</title>\n",
       "<polygon fill=\"none\" points=\"55.9966,-73.5 55.9966,-109.5 172.683,-109.5 172.683,-73.5 55.9966,-73.5\" stroke=\"black\"/>\n",
       "<text font-family=\"Times,serif\" font-size=\"14.00\" text-anchor=\"middle\" x=\"114.34\" y=\"-87.3\">dense_26 (Dense)</text>\n",
       "</g>\n",
       "<!-- 4749111760&#45;&gt;4749114768 -->\n",
       "<g class=\"edge\" id=\"edge12\"><title>4749111760-&gt;4749114768</title>\n",
       "<path d=\"M114.34,-146.313C114.34,-138.289 114.34,-128.547 114.34,-119.569\" fill=\"none\" stroke=\"black\"/>\n",
       "<polygon fill=\"black\" points=\"117.84,-119.529 114.34,-109.529 110.84,-119.529 117.84,-119.529\" stroke=\"black\"/>\n",
       "</g>\n",
       "<!-- 4749186640 -->\n",
       "<g class=\"node\" id=\"node14\"><title>4749186640</title>\n",
       "<polygon fill=\"none\" points=\"32.2793,-0.5 32.2793,-36.5 196.4,-36.5 196.4,-0.5 32.2793,-0.5\" stroke=\"black\"/>\n",
       "<text font-family=\"Times,serif\" font-size=\"14.00\" text-anchor=\"middle\" x=\"114.34\" y=\"-14.3\">activation_39 (Activation)</text>\n",
       "</g>\n",
       "<!-- 4749114768&#45;&gt;4749186640 -->\n",
       "<g class=\"edge\" id=\"edge13\"><title>4749114768-&gt;4749186640</title>\n",
       "<path d=\"M114.34,-73.3129C114.34,-65.2895 114.34,-55.5475 114.34,-46.5691\" fill=\"none\" stroke=\"black\"/>\n",
       "<polygon fill=\"black\" points=\"117.84,-46.5288 114.34,-36.5288 110.84,-46.5289 117.84,-46.5288\" stroke=\"black\"/>\n",
       "</g>\n",
       "</g>\n",
       "</svg>"
      ],
      "text/plain": [
       "<IPython.core.display.SVG object>"
      ]
     },
     "execution_count": 113,
     "metadata": {},
     "output_type": "execute_result"
    }
   ],
   "source": [
    "from IPython.display import SVG\n",
    "from keras.utils.visualize_util import model_to_dot\n",
    "\n",
    "SVG(model_to_dot(model).create(prog='dot', format='svg'))"
   ]
  },
  {
   "cell_type": "markdown",
   "metadata": {},
   "source": [
    "## Training \n",
    "Train and use validation data to see if we're training effectively!"
   ]
  },
  {
   "cell_type": "markdown",
   "metadata": {},
   "source": [
    "Split into train and validation data tests (split = percentage to have in training set)\n"
   ]
  },
  {
   "cell_type": "code",
   "execution_count": 41,
   "metadata": {
    "collapsed": false
   },
   "outputs": [
    {
     "name": "stdout",
     "output_type": "stream",
     "text": [
      "Driver train list: ['p024' 'p049' 'p035' 'p064' 'p075' 'p072' 'p051' 'p041' 'p045' 'p014'\n",
      " 'p047' 'p061' 'p081' 'p012' 'p056' 'p022' 'p002' 'p066' 'p015' 'p016'\n",
      " 'p052' 'p021' 'p026' 'p039']\n",
      "Driver validation list: ['p042', 'p050']\n"
     ]
    }
   ],
   "source": [
    "def split_drivers_into_train_and_validate(driver_list, split = 0.95):\n",
    "    driver_valid_list = []\n",
    "    # Take a random sample of drivers into the training list\n",
    "    driver_train_list = np.random.choice(driver_list, int(len(driver_list)*split), replace = False)\n",
    "    # Take the remaining drivers into the validation list\n",
    "    driver_valid_list = [ driver for driver in driver_list if driver not in driver_train_list]\n",
    "    return driver_train_list, driver_valid_list\n",
    "    \n",
    "#X_train, X_test, y_train, y_test = train_test_split(X_all.ix[rows], student_data[target_col].ix[rows], test_size=test_size)\n",
    "\n",
    "training_list, validation_list = split_drivers_into_train_and_validate(driver_ids)\n",
    "print \"Driver train list: {}\".format(training_list)\n",
    "print \"Driver validation list: {}\".format(validation_list)"
   ]
  },
  {
   "cell_type": "markdown",
   "metadata": {},
   "source": [
    "Now create X_train, y_train, X_valid, y_valid"
   ]
  },
  {
   "cell_type": "code",
   "execution_count": 42,
   "metadata": {
    "collapsed": false
   },
   "outputs": [
    {
     "name": "stdout",
     "output_type": "stream",
     "text": [
      "Creating training data:\n",
      ". . . . . . . . . . . . . . . . . . . . . . . . . . . . . . . . . . . . . . . . . . . . . . . . . . . . . . . . . . . . . . . . . . . . . . . . . . . . . . . . . . . . . . . . . . . . . . . . . . . . . . . . . . . . . . . . . . . . . . . . . . . . . . . . . . . . . . . . . . . . . . . . . . . . . . . . . . . . . . . . . . . . . . . . . . . . . . . . . . . . . . . . . . . . . . . . . . . . . . . . . . . . . . . . . . \n",
      "Processed 21043 rows.\n",
      "Creating validation data:\n",
      ". . . . . . . . . . . . . \n",
      "Processed 1381 rows.\n",
      "(21043, 1, 224, 224)\n",
      "(21043, 10)\n",
      "(1381, 1, 224, 224)\n",
      "(1381, 10)\n"
     ]
    }
   ],
   "source": [
    "# TODO - Add in random ordering of training data!!\n",
    "# index = np.random.choice(range(0, num_training_samples), num_training_samples, replace = False) # Random ordering\n",
    "# ...driver_list[index], training_list[index]\n",
    "print \"Creating training data:\"\n",
    "X_train, y_train = create_train_validation_data(driver_list, training_list)\n",
    "print \"Creating validation data:\"\n",
    "X_valid, y_valid = create_train_validation_data(driver_list, validation_list)\n",
    "\n",
    "\n",
    "\n"
   ]
  },
  {
   "cell_type": "code",
   "execution_count": 120,
   "metadata": {
    "collapsed": false
   },
   "outputs": [
    {
     "name": "stdout",
     "output_type": "stream",
     "text": [
      "(21043, 1, 224, 224)\n",
      "(21043, 10)\n",
      "(1381, 1, 224, 224)\n",
      "(1381, 10)\n"
     ]
    }
   ],
   "source": [
    "print X_train.shape\n",
    "print y_train.shape\n",
    "num_training_samples = X_train.shape[0]\n",
    "print X_valid.shape\n",
    "print y_valid.shape\n",
    "num_validation_samples = X_valid.shape[0]"
   ]
  },
  {
   "cell_type": "code",
   "execution_count": 121,
   "metadata": {
    "collapsed": false
   },
   "outputs": [],
   "source": [
    "def graph_training_loss_history(losses):\n",
    "    plt.figure(figsize=(6, 3))\n",
    "    plt.plot(losses)\n",
    "    plt.ylabel('error')\n",
    "    plt.xlabel('batch')\n",
    "    plt.title('training error')\n",
    "    plt.show()"
   ]
  },
  {
   "cell_type": "code",
   "execution_count": 122,
   "metadata": {
    "collapsed": false
   },
   "outputs": [],
   "source": [
    "from sklearn.metrics import log_loss\n",
    "def get_log_loss_score(model, X_valid, y_valid):\n",
    "    predictions_valid = model.predict(X_valid, batch_size=128, verbose=1)\n",
    "    score = log_loss(y_valid, predictions_valid)\n",
    "    return score"
   ]
  },
  {
   "cell_type": "code",
   "execution_count": null,
   "metadata": {
    "collapsed": false,
    "scrolled": false
   },
   "outputs": [
    {
     "name": "stdout",
     "output_type": "stream",
     "text": [
      "Train on 21043 samples, validate on 1381 samples\n",
      "Epoch 1/10\n",
      "   96/21043 [..............................] - ETA: 831s - loss: 2.2947 - acc: 0.1354"
     ]
    }
   ],
   "source": [
    "batch_size = 32\n",
    "num_epochs = 10\n",
    "\n",
    "for i in range(1,5):\n",
    "    history = LossHistory()\n",
    "    #index = np.random.choice(range(0, num_training_samples), num_training_samples, replace = False) # Random ordering\n",
    "    model.fit(X_train, y_train, batch_size=batch_size, nb_epoch=num_epochs,\n",
    "              verbose=1, validation_data=(X_valid, y_valid), shuffle=True,\n",
    "              callbacks=[history]) \n",
    "    graph_training_loss_history(history.losses)\n",
    "    print('Score log_loss: ', get_log_loss_score(model, X_valid, y_valid))\n",
    "    "
   ]
  },
  {
   "cell_type": "code",
   "execution_count": 118,
   "metadata": {
    "collapsed": false,
    "scrolled": false
   },
   "outputs": [
    {
     "name": "stdout",
     "output_type": "stream",
     "text": [
      "{'W_constraint': None, 'b_constraint': None, 'name': 'convolution2d_25', 'activity_regularizer': None, 'trainable': True, 'dim_ordering': 'th', 'nb_col': 5, 'subsample': (1, 1), 'init': 'glorot_uniform', 'bias': True, 'nb_filter': 8, 'activation': 'relu', 'input_dtype': 'float32', 'batch_input_shape': (None, 1, 224, 224), 'W_regularizer': None, 'nb_row': 5, 'b_regularizer': None, 'border_mode': 'valid'}\n",
      "[array([[[[ -3.52666825e-02,   1.14906509e-03,  -4.58880253e-02,\n",
      "           -1.90172821e-01,  -3.04558706e-02],\n",
      "         [ -1.93276033e-01,  -1.15305101e-02,   1.96422637e-02,\n",
      "            2.09516026e-02,  -1.74680706e-02],\n",
      "         [ -1.09058850e-01,  -1.95718139e-01,  -6.65238276e-02,\n",
      "           -1.65151656e-02,  -1.59602925e-01],\n",
      "         [  8.29697177e-02,  -1.95924729e-01,   8.25594738e-02,\n",
      "            2.89655756e-02,   1.19018883e-01],\n",
      "         [ -1.01488054e-01,  -3.42230201e-02,   7.59889651e-03,\n",
      "           -1.87098905e-01,   4.13375422e-02]]],\n",
      "\n",
      "\n",
      "       [[[ -3.95375863e-02,  -6.10762015e-02,  -3.96535583e-02,\n",
      "           -4.54622805e-02,   1.30540863e-01],\n",
      "         [ -9.25287046e-03,  -8.42349231e-02,   3.14926021e-02,\n",
      "           -1.05358437e-01,  -8.38143677e-02],\n",
      "         [  1.30351976e-01,  -4.95427027e-02,  -6.37310147e-02,\n",
      "            9.34360772e-02,   2.66064162e-04],\n",
      "         [  2.72034835e-02,  -1.16195276e-01,   8.19870550e-03,\n",
      "           -6.49104193e-02,  -8.03128481e-02],\n",
      "         [ -1.57417625e-01,  -5.29140159e-02,   8.21262375e-02,\n",
      "            5.04255965e-02,  -7.66747817e-02]]],\n",
      "\n",
      "\n",
      "       [[[ -2.86383092e-01,  -1.12628557e-01,  -1.45573124e-01,\n",
      "           -8.50064680e-02,  -1.48577586e-01],\n",
      "         [ -6.68494180e-02,  -2.25201011e-01,  -3.35134208e-01,\n",
      "           -1.08171880e-01,  -1.38747230e-01],\n",
      "         [ -1.28928334e-01,  -2.23356873e-01,  -3.11479002e-01,\n",
      "           -2.52636194e-01,  -1.69212624e-01],\n",
      "         [ -2.06331462e-01,  -1.00118354e-01,  -2.66490430e-01,\n",
      "           -2.07975298e-01,  -2.54095882e-01],\n",
      "         [ -7.40436316e-02,  -2.85097748e-01,  -3.93319130e-01,\n",
      "           -1.39818341e-01,  -2.16601700e-01]]],\n",
      "\n",
      "\n",
      "       [[[ -2.03079283e-01,  -4.36526030e-01,  -2.52273262e-01,\n",
      "           -2.46540859e-01,  -2.23931044e-01],\n",
      "         [ -3.07088047e-01,  -2.37616748e-01,  -3.30228448e-01,\n",
      "           -4.55317140e-01,  -3.71476680e-01],\n",
      "         [ -4.67828363e-01,  -2.86181420e-01,  -3.98557782e-01,\n",
      "           -3.87195617e-01,  -2.91076005e-01],\n",
      "         [ -3.45448494e-01,  -3.11560422e-01,  -1.56304032e-01,\n",
      "           -4.28463459e-01,  -4.00181770e-01],\n",
      "         [ -3.62224907e-01,  -2.64181733e-01,  -3.17996323e-01,\n",
      "           -2.53383219e-01,  -3.86387199e-01]]],\n",
      "\n",
      "\n",
      "       [[[ -1.37649834e-01,  -4.39570487e-01,  -2.29138300e-01,\n",
      "           -2.19657928e-01,  -2.10581973e-01],\n",
      "         [ -3.51909548e-01,  -2.33848155e-01,  -4.65593994e-01,\n",
      "           -2.80991882e-01,  -2.61043161e-01],\n",
      "         [ -3.45503151e-01,  -1.83375672e-01,  -1.74752533e-01,\n",
      "           -2.52280682e-01,  -3.72388482e-01],\n",
      "         [ -4.48426127e-01,  -1.79291025e-01,  -3.55639935e-01,\n",
      "           -3.76604736e-01,  -4.23034966e-01],\n",
      "         [ -1.48917452e-01,  -1.50715068e-01,  -2.89222151e-01,\n",
      "           -3.71701568e-01,  -2.35513970e-01]]],\n",
      "\n",
      "\n",
      "       [[[  1.35553524e-01,  -5.34513183e-02,  -2.06576064e-02,\n",
      "           -9.30212364e-02,  -6.27820864e-02],\n",
      "         [ -1.26787767e-01,   1.57461464e-01,  -9.90391150e-02,\n",
      "            1.31640717e-01,   2.14035641e-02],\n",
      "         [ -6.08718209e-02,  -9.51738805e-02,  -1.89681724e-02,\n",
      "            7.05132633e-02,  -1.39603943e-01],\n",
      "         [  7.37187592e-03,  -8.75527635e-02,   1.14472248e-01,\n",
      "           -7.93661103e-02,   1.89958606e-02],\n",
      "         [  1.42072350e-01,  -1.85828973e-02,   1.18137918e-01,\n",
      "           -1.37883902e-01,  -1.15392864e-01]]],\n",
      "\n",
      "\n",
      "       [[[ -2.48966008e-01,  -4.37683284e-01,  -3.63658190e-01,\n",
      "           -4.12497312e-01,  -4.16763246e-01],\n",
      "         [ -4.36794251e-01,  -2.41752610e-01,  -1.85079321e-01,\n",
      "           -3.04014474e-01,  -2.93573260e-01],\n",
      "         [ -3.12603235e-01,  -2.65664399e-01,  -4.52306747e-01,\n",
      "           -4.49852556e-01,  -1.99033514e-01],\n",
      "         [ -2.89045185e-01,  -2.22724244e-01,  -2.59079009e-01,\n",
      "           -3.88721079e-01,  -2.69194007e-01],\n",
      "         [ -3.88512969e-01,  -1.84778214e-01,  -4.41977471e-01,\n",
      "           -2.74732411e-01,  -4.38364536e-01]]],\n",
      "\n",
      "\n",
      "       [[[ -7.34460056e-02,   6.18492737e-02,   4.99469787e-02,\n",
      "           -1.16002068e-01,  -7.21667558e-02],\n",
      "         [  6.43370375e-02,  -1.09559096e-01,  -7.02326372e-02,\n",
      "            1.11459389e-01,  -8.32800195e-02],\n",
      "         [ -1.40395030e-01,   2.89189722e-03,   8.26334655e-02,\n",
      "           -5.37401140e-02,  -4.96635959e-02],\n",
      "         [  1.28897443e-01,  -1.58497706e-01,   1.39873967e-01,\n",
      "            1.34676054e-01,  -1.17467724e-01],\n",
      "         [  1.11771196e-01,   6.20159395e-02,  -6.60785809e-02,\n",
      "           -1.48971766e-01,  -7.25542754e-02]]]], dtype=float32), array([-0.02592158, -0.03352285, -0.18805894, -0.5456115 , -0.27899647,\n",
      "       -0.00675553, -0.31740108,  0.00183505], dtype=float32)]\n",
      "{'name': 'maxpooling2d_24', 'trainable': True, 'dim_ordering': 'th', 'pool_size': (2, 2), 'strides': (2, 2), 'border_mode': 'valid'}\n",
      "[]\n",
      "{'p': 0.25, 'trainable': True, 'name': 'dropout_36'}\n",
      "[]\n",
      "{'W_constraint': None, 'b_constraint': None, 'name': 'convolution2d_26', 'activity_regularizer': None, 'trainable': True, 'dim_ordering': 'th', 'nb_col': 5, 'subsample': (1, 1), 'init': 'glorot_uniform', 'bias': True, 'nb_filter': 8, 'b_regularizer': None, 'W_regularizer': None, 'nb_row': 5, 'activation': 'linear', 'border_mode': 'valid'}\n",
      "[array([[[[ -1.10211195e-02,   5.80102801e-02,   9.16260853e-02,\n",
      "            1.11384131e-01,   1.91530008e-02],\n",
      "         [  3.01600788e-02,   1.13172904e-01,  -7.12071955e-02,\n",
      "           -4.71274927e-02,   1.11465566e-01],\n",
      "         [  8.02953020e-02,   5.52977920e-02,   2.40717623e-02,\n",
      "           -4.02175225e-02,   8.85869190e-02],\n",
      "         [  9.17211547e-02,   6.89732209e-02,  -4.57231626e-02,\n",
      "            1.57684870e-02,   2.86591537e-02],\n",
      "         [  1.15778014e-01,  -2.06726626e-03,   8.33381861e-02,\n",
      "           -7.39509016e-02,   6.80967867e-02]],\n",
      "\n",
      "        [[  5.29235825e-02,  -8.56684521e-03,   2.11464558e-02,\n",
      "            2.41290238e-02,  -1.13667391e-01],\n",
      "         [ -8.55545476e-02,   9.68252942e-02,  -7.17764646e-02,\n",
      "           -3.10915336e-02,  -7.34568536e-02],\n",
      "         [ -2.84237787e-02,   4.36975658e-02,  -1.10623062e-01,\n",
      "           -7.68233240e-02,   1.42243728e-02],\n",
      "         [ -2.44324617e-02,  -1.14415802e-01,   1.25080436e-01,\n",
      "           -9.88577753e-02,  -6.64645731e-02],\n",
      "         [  5.78969494e-02,  -7.96415508e-02,   8.15821216e-02,\n",
      "            6.16614781e-02,   1.16674893e-01]],\n",
      "\n",
      "        [[  6.07691593e-02,   6.94313645e-02,   5.50484937e-03,\n",
      "           -9.55980346e-02,   3.43801118e-02],\n",
      "         [ -7.96863660e-02,   8.54150429e-02,   1.06312506e-01,\n",
      "           -6.71494454e-02,  -2.18835939e-02],\n",
      "         [ -1.18592970e-01,  -7.05766678e-02,   2.91481335e-02,\n",
      "            5.63605353e-02,   1.79883186e-02],\n",
      "         [  4.17120643e-02,  -1.02434598e-01,   3.68978418e-02,\n",
      "           -1.55209117e-02,  -1.07722439e-01],\n",
      "         [  1.23293355e-01,  -1.33192599e-01,  -1.05690233e-01,\n",
      "            4.27085273e-02,  -1.72910299e-02]],\n",
      "\n",
      "        ..., \n",
      "        [[ -9.61104557e-02,  -9.73611176e-02,  -2.39033420e-02,\n",
      "           -2.73720268e-02,  -4.22421657e-02],\n",
      "         [ -4.72764969e-02,  -4.33043651e-02,  -1.07641518e-02,\n",
      "            9.71064270e-02,  -6.98734894e-02],\n",
      "         [  9.59494188e-02,   9.32605118e-02,   4.13205335e-03,\n",
      "           -1.20911866e-01,  -1.72391087e-02],\n",
      "         [ -2.28602197e-02,   7.16178715e-02,   5.90672493e-02,\n",
      "            3.30407023e-02,  -1.82629991e-02],\n",
      "         [  1.12634756e-01,  -7.18396083e-02,   6.16759360e-02,\n",
      "           -7.35771656e-02,   4.40578237e-02]],\n",
      "\n",
      "        [[ -1.21894859e-01,   3.16667953e-03,   5.62880524e-02,\n",
      "            5.89008965e-02,  -7.68852308e-02],\n",
      "         [  6.04456514e-02,  -9.31356028e-02,   7.94603862e-03,\n",
      "            6.66808262e-02,   2.47504637e-02],\n",
      "         [ -9.72317085e-02,   9.52683762e-02,   2.43939497e-02,\n",
      "           -8.13393369e-02,  -2.05545090e-02],\n",
      "         [  3.71250208e-03,   8.55140537e-02,  -1.19104810e-01,\n",
      "            9.08707641e-03,   3.16054240e-04],\n",
      "         [  9.57297459e-02,  -4.10531312e-02,   8.49459916e-02,\n",
      "           -8.47338960e-02,  -7.24688023e-02]],\n",
      "\n",
      "        [[ -2.34124511e-02,   1.14661716e-01,  -5.34667484e-02,\n",
      "            1.19853988e-02,  -1.05663031e-01],\n",
      "         [  4.71611284e-02,   7.91273173e-03,   3.36475857e-02,\n",
      "           -4.18486036e-02,  -9.47967023e-02],\n",
      "         [  8.35464671e-02,   4.46283147e-02,  -6.26730621e-02,\n",
      "            1.80644318e-02,   7.56110027e-02],\n",
      "         [ -1.18623726e-01,  -9.35966298e-02,  -4.01121564e-02,\n",
      "           -1.76567640e-02,  -9.52543542e-02],\n",
      "         [  1.15945160e-01,  -4.33010049e-02,  -7.92481005e-02,\n",
      "            1.01673745e-01,   6.78708777e-02]]],\n",
      "\n",
      "\n",
      "       [[[  2.79289186e-02,  -5.69175966e-02,  -1.17404833e-01,\n",
      "           -9.19745937e-02,  -1.01088606e-01],\n",
      "         [  3.05960211e-03,   1.23755731e-01,  -3.17907557e-02,\n",
      "            8.92926976e-02,  -3.48609500e-02],\n",
      "         [  1.03531303e-02,   9.72689986e-02,  -4.06500250e-02,\n",
      "           -1.00761324e-01,  -7.75841027e-02],\n",
      "         [ -5.46446703e-02,   9.91611481e-02,  -3.46978456e-02,\n",
      "           -1.20808333e-01,  -4.72352877e-02],\n",
      "         [  5.36911637e-02,   5.52025437e-02,  -5.13786674e-02,\n",
      "           -8.75498503e-02,   1.12098165e-01]],\n",
      "\n",
      "        [[ -7.82410577e-02,  -9.71094891e-02,   9.83138159e-02,\n",
      "           -5.16193844e-02,  -9.18379128e-02],\n",
      "         [ -9.07668378e-03,  -5.61777055e-02,  -5.25698513e-02,\n",
      "            1.04071341e-01,   1.09484203e-01],\n",
      "         [  3.89072709e-02,  -3.70149389e-02,  -5.51736206e-02,\n",
      "           -1.19019456e-01,   4.56109270e-03],\n",
      "         [  1.26828521e-01,   7.44756311e-02,   9.01393890e-02,\n",
      "            2.67424639e-02,   5.66905960e-02],\n",
      "         [ -7.33368024e-02,   7.54968971e-02,  -1.84994601e-02,\n",
      "            7.16741011e-02,   8.54928792e-02]],\n",
      "\n",
      "        [[  8.71460438e-02,  -1.01552881e-01,  -6.32362962e-02,\n",
      "           -1.33618206e-01,   4.47088561e-04],\n",
      "         [  1.49326846e-02,  -4.74713929e-02,   6.43216297e-02,\n",
      "           -4.94973324e-02,  -2.17452236e-02],\n",
      "         [  8.58260542e-02,   8.66709352e-02,  -6.88832207e-03,\n",
      "            4.64095362e-02,   2.56972611e-02],\n",
      "         [ -1.05752625e-01,  -1.24857932e-01,   5.82111217e-02,\n",
      "           -6.86287656e-02,   4.64491062e-02],\n",
      "         [ -1.06216386e-01,   1.07179791e-01,   9.06714350e-02,\n",
      "           -4.33756635e-02,   7.41869509e-02]],\n",
      "\n",
      "        ..., \n",
      "        [[  6.76591173e-02,  -4.68396433e-02,  -4.06087451e-02,\n",
      "            9.78195015e-03,  -1.11265719e-01],\n",
      "         [  5.97519130e-02,   5.31154089e-02,   4.49114591e-02,\n",
      "            4.71665384e-03,  -1.04740761e-01],\n",
      "         [  4.82379384e-02,  -1.18467271e-01,   5.14176004e-02,\n",
      "           -1.19971737e-01,   1.11886732e-01],\n",
      "         [ -3.30540612e-02,   4.34272513e-02,  -1.59389786e-02,\n",
      "           -3.22593600e-02,   8.06789845e-02],\n",
      "         [ -2.17404924e-02,  -4.56379205e-02,  -3.04270182e-02,\n",
      "           -1.87450569e-04,  -7.44677112e-02]],\n",
      "\n",
      "        [[ -8.23293179e-02,   1.05261710e-02,  -7.33969957e-02,\n",
      "            1.24178834e-01,  -1.02424927e-01],\n",
      "         [ -7.31978491e-02,   1.19824745e-01,   9.21083316e-02,\n",
      "           -5.78009225e-02,   8.91421810e-02],\n",
      "         [ -2.50016619e-02,   1.22398660e-01,  -1.13846555e-01,\n",
      "           -3.09709422e-02,  -6.94477260e-02],\n",
      "         [ -2.31028982e-02,  -5.37934713e-02,  -2.17383858e-02,\n",
      "            9.12507623e-02,  -4.10935245e-02],\n",
      "         [ -3.11315563e-02,  -3.86586711e-02,  -9.34279338e-02,\n",
      "           -9.23819840e-04,   6.14835545e-02]],\n",
      "\n",
      "        [[ -5.02008647e-02,  -1.05324090e-01,   6.96853101e-02,\n",
      "           -6.23937212e-02,  -1.14077926e-01],\n",
      "         [  4.90215756e-02,  -1.15977317e-01,   1.10631056e-01,\n",
      "            9.63630751e-02,   7.19526038e-02],\n",
      "         [  7.00992253e-03,  -9.52192917e-02,  -1.12518735e-01,\n",
      "            4.87517305e-02,  -3.03630419e-02],\n",
      "         [  6.25883639e-02,  -3.40816118e-02,   1.13543279e-01,\n",
      "           -1.06998272e-01,   5.25566712e-02],\n",
      "         [ -4.93956916e-03,  -7.44886771e-02,   1.97618455e-02,\n",
      "           -1.20899595e-01,  -1.10853203e-01]]],\n",
      "\n",
      "\n",
      "       [[[  7.55048636e-03,  -4.76662330e-02,   1.05756082e-01,\n",
      "            9.12626982e-02,  -3.60463001e-02],\n",
      "         [ -2.16864701e-02,  -6.65500388e-02,   5.73305264e-02,\n",
      "           -1.12875160e-02,   7.21272901e-02],\n",
      "         [ -8.51511359e-02,   6.10305928e-02,   2.47000102e-02,\n",
      "            1.03851251e-01,   6.97305053e-02],\n",
      "         [ -3.60129960e-02,  -5.43306954e-02,  -1.80546083e-02,\n",
      "           -7.93037564e-02,   8.98518115e-02],\n",
      "         [ -8.63308832e-02,   6.28740573e-03,  -8.88029635e-02,\n",
      "           -5.29500842e-03,  -4.68473025e-02]],\n",
      "\n",
      "        [[  6.23250613e-04,  -8.90763476e-02,  -9.37888250e-02,\n",
      "           -1.84004632e-04,   7.20502958e-02],\n",
      "         [ -5.28740361e-02,  -5.85931018e-02,   3.62745896e-02,\n",
      "           -4.28256430e-02,  -1.06472343e-01],\n",
      "         [ -5.50967269e-02,   7.62487808e-03,  -2.42352579e-02,\n",
      "            1.07103929e-01,  -6.49372712e-02],\n",
      "         [  3.03645320e-02,  -1.52646713e-02,   3.96483541e-02,\n",
      "           -1.94968823e-02,  -2.15530265e-02],\n",
      "         [ -1.04244962e-01,   8.87812003e-02,   1.04851268e-01,\n",
      "           -5.08994870e-02,  -3.41602750e-02]],\n",
      "\n",
      "        [[ -1.26139838e-02,  -1.21354185e-01,  -4.60179001e-02,\n",
      "           -2.51148809e-02,   3.89767252e-02],\n",
      "         [ -1.06671877e-01,   6.33190051e-02,  -5.86599857e-02,\n",
      "            3.23573612e-02,   4.47267555e-02],\n",
      "         [  7.51628056e-02,  -6.52630180e-02,   3.37720402e-02,\n",
      "           -2.07458269e-02,   2.52847057e-02],\n",
      "         [ -4.96555492e-02,   7.61563554e-02,  -7.09778722e-03,\n",
      "           -1.16633438e-02,  -3.11487280e-02],\n",
      "         [ -7.56496266e-02,   9.94706992e-04,  -3.39696705e-02,\n",
      "            2.96107754e-02,   7.99563006e-02]],\n",
      "\n",
      "        ..., \n",
      "        [[  8.90311003e-02,  -9.72755179e-02,  -7.95369036e-03,\n",
      "           -4.09933515e-02,  -3.96679193e-02],\n",
      "         [ -1.09553337e-02,  -1.01658754e-01,   1.08483084e-01,\n",
      "           -2.48716050e-03,   9.17872041e-02],\n",
      "         [  2.79399306e-02,  -3.96540854e-03,  -3.23102847e-02,\n",
      "            2.09532343e-02,  -9.72793996e-02],\n",
      "         [ -5.46077751e-02,  -8.00170824e-02,  -1.84336409e-03,\n",
      "            1.69649106e-02,   1.88508481e-02],\n",
      "         [ -7.02243969e-02,  -6.30028322e-02,  -4.04563323e-02,\n",
      "            5.32590933e-02,   1.21335387e-01]],\n",
      "\n",
      "        [[  9.70117971e-02,  -3.29648028e-03,  -8.51315930e-02,\n",
      "           -3.66062522e-02,  -8.27327743e-02],\n",
      "         [ -2.41115466e-02,  -2.85828020e-03,  -8.04996043e-02,\n",
      "            5.27940653e-02,   5.84849678e-02],\n",
      "         [ -7.72842541e-02,  -9.31873024e-02,  -6.65181801e-02,\n",
      "            9.84670315e-03,  -6.58982396e-02],\n",
      "         [  4.94842343e-02,  -2.54549515e-02,  -1.06543519e-01,\n",
      "           -1.64813921e-02,   9.75584835e-02],\n",
      "         [  1.01537593e-01,   6.58744723e-02,  -1.37919178e-02,\n",
      "           -1.21659867e-01,  -9.18029174e-02]],\n",
      "\n",
      "        [[ -3.63574363e-02,   1.66057535e-02,  -7.34084770e-02,\n",
      "           -3.14501040e-02,   1.11771539e-01],\n",
      "         [ -2.12042406e-02,   1.11996636e-01,   7.86856655e-03,\n",
      "           -7.50470459e-02,  -4.69650328e-02],\n",
      "         [  3.30327414e-02,  -5.65501414e-02,   5.96561357e-02,\n",
      "           -3.16077881e-02,   1.15270481e-01],\n",
      "         [ -4.69234101e-02,   1.66141689e-02,  -1.14047818e-01,\n",
      "            9.11883116e-02,  -5.15722074e-02],\n",
      "         [  9.91564468e-02,  -3.78745273e-02,  -8.46527442e-02,\n",
      "           -4.76793870e-02,  -5.08886985e-02]]],\n",
      "\n",
      "\n",
      "       ..., \n",
      "       [[[  5.34081720e-02,  -1.59436576e-02,   9.02603194e-02,\n",
      "           -1.03093356e-01,  -7.57866576e-02],\n",
      "         [  6.18872941e-02,   2.96075013e-03,  -4.39219736e-02,\n",
      "            1.11161135e-01,  -4.00009826e-02],\n",
      "         [  4.41431673e-03,   1.14452094e-02,  -9.46883112e-02,\n",
      "            1.06987618e-01,   1.31323189e-02],\n",
      "         [  1.05252728e-01,   4.93828580e-02,   9.45545062e-02,\n",
      "           -6.91502094e-02,  -6.45227954e-02],\n",
      "         [  1.58282090e-02,   6.61835074e-02,  -7.23187253e-02,\n",
      "            1.92381795e-02,   9.15044993e-02]],\n",
      "\n",
      "        [[  1.17288530e-01,  -3.41551676e-02,   7.85152763e-02,\n",
      "            3.49903889e-02,  -7.18159750e-02],\n",
      "         [  1.05657332e-01,   1.02654267e-02,  -2.43084189e-02,\n",
      "           -7.08022043e-02,   2.71048378e-02],\n",
      "         [ -7.56618977e-02,  -2.73202509e-02,  -9.57910568e-02,\n",
      "           -4.00902368e-02,  -7.91553780e-02],\n",
      "         [ -1.06389903e-01,  -8.12251121e-02,   5.11174649e-02,\n",
      "            4.85510454e-02,  -8.00676569e-02],\n",
      "         [  4.18896787e-02,   7.00492561e-02,  -2.80225463e-02,\n",
      "            6.19057789e-02,  -1.01732798e-01]],\n",
      "\n",
      "        [[ -8.12663808e-02,   1.29238337e-01,   7.62945712e-02,\n",
      "           -1.35761276e-01,  -8.69408101e-02],\n",
      "         [  3.69400829e-02,  -5.22199422e-02,   1.25090862e-02,\n",
      "            4.01722081e-02,  -6.29902119e-03],\n",
      "         [ -7.63822198e-02,   5.96173927e-02,   7.40808770e-02,\n",
      "           -6.48570072e-04,   2.03632936e-02],\n",
      "         [ -3.70571949e-02,  -8.51601660e-02,  -5.54245003e-02,\n",
      "           -1.30227953e-01,   5.20307720e-02],\n",
      "         [  5.82047645e-03,   1.04791731e-01,  -8.15435350e-02,\n",
      "           -1.07137170e-02,   5.98400533e-02]],\n",
      "\n",
      "        ..., \n",
      "        [[ -1.81524232e-02,   4.13842797e-02,  -3.76845114e-02,\n",
      "           -1.03937373e-01,   9.92077217e-03],\n",
      "         [  1.12557873e-01,  -6.73905313e-02,   4.81212698e-02,\n",
      "           -5.24434149e-02,  -9.23056677e-02],\n",
      "         [  3.73944826e-02,   3.81513387e-02,  -1.41492067e-02,\n",
      "            1.12180211e-01,  -2.69988850e-02],\n",
      "         [  4.89092581e-02,  -1.10708579e-01,   8.79954770e-02,\n",
      "           -1.49953905e-02,   4.29348238e-02],\n",
      "         [ -2.07439605e-02,   3.87595296e-02,   9.94635075e-02,\n",
      "            5.62041141e-02,  -7.13791996e-02]],\n",
      "\n",
      "        [[ -4.20539491e-02,  -3.95925604e-02,   1.04943536e-01,\n",
      "           -1.16022423e-01,  -4.60939072e-02],\n",
      "         [  3.36117148e-02,  -1.25265241e-01,  -1.16545089e-01,\n",
      "            5.26315793e-02,  -1.21862311e-02],\n",
      "         [  8.39158669e-02,   7.22781494e-02,  -7.20282411e-03,\n",
      "           -5.51757291e-02,  -8.84280819e-03],\n",
      "         [ -5.94692640e-02,   6.27570748e-02,   8.52467120e-03,\n",
      "           -4.53493223e-02,   9.75078121e-02],\n",
      "         [  9.36686918e-02,  -6.47740364e-02,  -5.08832280e-03,\n",
      "           -9.43886340e-02,   2.24617347e-02]],\n",
      "\n",
      "        [[ -5.77274412e-02,  -6.74144551e-02,   6.85728416e-02,\n",
      "           -1.10080384e-01,  -7.84788653e-02],\n",
      "         [ -8.97331089e-02,   4.53874730e-02,  -1.20292000e-01,\n",
      "            2.82106474e-02,   8.32774094e-04],\n",
      "         [ -3.33442762e-02,  -9.92367268e-02,   9.75150615e-02,\n",
      "            7.71336555e-02,  -6.85104728e-02],\n",
      "         [ -2.20664088e-02,   2.73744967e-02,   6.23480193e-02,\n",
      "            6.36369735e-02,   6.19095899e-02],\n",
      "         [ -4.57112938e-02,   6.03127107e-02,   6.71139136e-02,\n",
      "           -5.81817143e-02,  -3.53313936e-03]]],\n",
      "\n",
      "\n",
      "       [[[  1.80528462e-02,  -7.92783406e-03,  -1.33251762e-02,\n",
      "           -1.20348155e-01,  -5.22625223e-02],\n",
      "         [ -5.48988283e-02,  -7.02637434e-02,  -1.19067557e-01,\n",
      "            8.70890543e-02,  -1.80923496e-03],\n",
      "         [ -3.54214422e-02,   3.39360461e-02,  -2.36621276e-02,\n",
      "            9.69426632e-02,  -8.90092179e-02],\n",
      "         [ -3.12081277e-02,   3.10794879e-02,  -3.32861096e-02,\n",
      "           -4.92694713e-02,   8.74365419e-02],\n",
      "         [  5.24976924e-02,  -8.64155591e-03,   7.08826818e-03,\n",
      "           -7.26017654e-02,  -9.91380960e-02]],\n",
      "\n",
      "        [[ -1.20717175e-02,   5.81868319e-03,  -1.08781159e-01,\n",
      "            7.20575824e-03,   2.49307249e-02],\n",
      "         [ -8.59769210e-02,  -8.67850780e-02,  -4.29390036e-02,\n",
      "            1.08236425e-01,  -1.92374960e-02],\n",
      "         [  9.58011113e-03,   4.57380675e-02,  -4.68225107e-02,\n",
      "           -5.07909134e-02,   9.97562930e-02],\n",
      "         [ -5.59603199e-02,  -2.61976160e-02,  -3.67530249e-02,\n",
      "            1.00109600e-01,   8.14841688e-02],\n",
      "         [  5.87461032e-02,  -1.06702849e-01,  -6.77466318e-02,\n",
      "            4.77664219e-03,   1.03811674e-01]],\n",
      "\n",
      "        [[  4.64923754e-02,  -1.53852314e-01,  -1.21954545e-01,\n",
      "            8.74920636e-02,  -8.98290351e-02],\n",
      "         [ -2.33124308e-02,   8.48925207e-03,   3.28692980e-02,\n",
      "           -1.04017489e-01,   1.12646008e-02],\n",
      "         [  6.54978678e-04,  -1.08826436e-01,  -8.58459994e-02,\n",
      "           -1.34857446e-01,  -8.29048380e-02],\n",
      "         [  5.98441064e-02,   4.79790941e-02,  -1.26199752e-01,\n",
      "            7.13229626e-02,  -7.51734450e-02],\n",
      "         [ -6.45375550e-02,  -1.24886878e-01,   6.54005352e-03,\n",
      "           -5.89140467e-02,  -9.35435072e-02]],\n",
      "\n",
      "        ..., \n",
      "        [[ -5.15081175e-02,  -7.78808668e-02,  -1.44039700e-02,\n",
      "            8.75350833e-02,   1.07955724e-01],\n",
      "         [ -1.09188622e-02,   3.77055630e-02,  -8.13568532e-02,\n",
      "            4.03927118e-02,  -1.06830008e-01],\n",
      "         [  9.61251277e-03,   7.00941607e-02,  -6.48549721e-02,\n",
      "           -1.17519796e-01,  -7.02626184e-02],\n",
      "         [  1.47489198e-02,   3.17688808e-02,   3.73909213e-02,\n",
      "            1.15219474e-01,   2.36280039e-02],\n",
      "         [  3.54086682e-02,   2.10676976e-02,   8.07814002e-02,\n",
      "            1.01611182e-01,  -1.17626213e-01]],\n",
      "\n",
      "        [[ -8.11557770e-02,  -5.90815097e-02,   2.86843888e-02,\n",
      "            4.83196937e-02,  -6.10441118e-02],\n",
      "         [ -1.42280862e-01,  -7.13933781e-02,  -1.84850171e-02,\n",
      "            6.05260506e-02,   9.15316679e-03],\n",
      "         [  1.11027621e-01,  -3.92327048e-02,   9.71884802e-02,\n",
      "            5.00484668e-02,   2.51714932e-03],\n",
      "         [  7.39118531e-02,   6.65075257e-02,  -1.27848625e-01,\n",
      "            1.11040615e-01,  -1.16136402e-01],\n",
      "         [  6.80036321e-02,  -1.77390948e-02,   4.03236933e-02,\n",
      "           -1.19890399e-01,   1.01649359e-01]],\n",
      "\n",
      "        [[ -4.57370393e-02,   4.37613949e-02,   3.83552872e-02,\n",
      "           -1.21007174e-01,  -3.49084027e-02],\n",
      "         [ -7.06074759e-02,  -9.24482867e-02,   8.72119591e-02,\n",
      "            1.11461356e-01,   1.15995117e-01],\n",
      "         [  1.11445397e-01,  -1.16077147e-01,  -1.02741823e-01,\n",
      "            1.19107319e-02,  -7.17158243e-02],\n",
      "         [ -2.74954755e-02,  -1.41833639e-02,   2.63905209e-02,\n",
      "           -1.19063132e-01,  -6.99773803e-02],\n",
      "         [  1.07685558e-01,  -3.63698527e-02,   2.75570713e-02,\n",
      "            4.96153720e-02,   1.00284949e-01]]],\n",
      "\n",
      "\n",
      "       [[[  9.47831869e-02,   6.45685643e-02,  -8.87257885e-03,\n",
      "            3.47362943e-02,   5.99807017e-02],\n",
      "         [ -2.80383788e-02,  -6.69373050e-02,   1.73414759e-02,\n",
      "           -1.75446942e-02,   2.18990538e-02],\n",
      "         [ -6.88057095e-02,  -1.04423374e-01,   9.09483805e-02,\n",
      "            1.65204369e-02,  -1.03522956e-01],\n",
      "         [ -7.41714910e-02,  -8.35310966e-02,  -7.29946494e-02,\n",
      "           -9.34247300e-02,   8.69578198e-02],\n",
      "         [ -9.20511931e-02,  -8.02381262e-02,  -9.17285308e-02,\n",
      "            5.43560497e-02,  -1.21821538e-01]],\n",
      "\n",
      "        [[ -4.22534719e-02,  -1.24280006e-02,  -1.09442361e-01,\n",
      "            4.72435616e-02,   1.17604733e-02],\n",
      "         [ -8.36554449e-03,   8.37596953e-02,   1.06676452e-01,\n",
      "            1.08015239e-01,  -8.09170157e-02],\n",
      "         [ -1.06762789e-01,   3.45706679e-02,   3.64025831e-02,\n",
      "            6.73125982e-02,  -1.12481087e-01],\n",
      "         [ -8.51333067e-02,   6.03431351e-02,   1.10427067e-02,\n",
      "           -3.76066566e-02,  -6.40543550e-02],\n",
      "         [ -1.10351704e-01,   1.18322678e-01,  -9.72150415e-02,\n",
      "            1.57841742e-02,  -8.58440623e-02]],\n",
      "\n",
      "        [[  1.66795086e-02,  -1.63323164e-01,  -3.85046862e-02,\n",
      "           -1.25136569e-01,  -8.00413638e-02],\n",
      "         [ -1.72465265e-01,   1.20637957e-02,  -1.01493210e-01,\n",
      "           -6.47949874e-02,  -1.16017386e-01],\n",
      "         [  3.75522822e-02,   5.91267683e-02,  -6.31917492e-02,\n",
      "           -3.94190662e-02,  -3.11423186e-02],\n",
      "         [ -1.40336797e-01,  -7.36087561e-02,   5.29673249e-02,\n",
      "            2.95869485e-02,  -1.41755894e-01],\n",
      "         [ -6.79824352e-02,  -1.30890056e-01,  -7.43439421e-02,\n",
      "            1.81336310e-02,  -1.18182831e-01]],\n",
      "\n",
      "        ..., \n",
      "        [[ -7.95604214e-02,   5.34304380e-02,  -9.74659622e-02,\n",
      "            7.12717250e-02,  -9.94547531e-02],\n",
      "         [ -1.01445280e-01,   1.17932945e-01,  -7.38735050e-02,\n",
      "           -6.19085617e-02,   5.20688444e-02],\n",
      "         [  9.27419513e-02,  -1.07556626e-01,   9.45390388e-02,\n",
      "            3.23071815e-02,   8.93873945e-02],\n",
      "         [  2.40392592e-02,   1.01030301e-02,  -8.91182572e-03,\n",
      "            7.41919801e-02,   5.18095586e-03],\n",
      "         [  9.78102093e-04,   4.59185950e-02,   4.31685403e-05,\n",
      "            5.67775071e-02,   8.99846181e-02]],\n",
      "\n",
      "        [[  8.45458806e-02,  -5.72679155e-02,   9.86997858e-02,\n",
      "            9.50768813e-02,   2.40559019e-02],\n",
      "         [  8.16674531e-02,   4.41256613e-02,   4.65446785e-02,\n",
      "            9.83117335e-03,  -1.03050582e-01],\n",
      "         [  4.20982465e-02,   1.01554975e-01,   4.96679582e-02,\n",
      "           -3.41630280e-02,   3.91853824e-02],\n",
      "         [  7.47808591e-02,   5.91180399e-02,  -3.56786139e-02,\n",
      "           -4.66884784e-02,  -7.25961849e-02],\n",
      "         [  3.67481224e-02,  -2.30023116e-02,  -1.82367321e-02,\n",
      "            9.47722718e-02,   4.08582389e-02]],\n",
      "\n",
      "        [[  1.07318155e-01,  -9.80758071e-02,  -6.34160563e-02,\n",
      "           -3.85036469e-02,  -3.21403369e-02],\n",
      "         [  6.61434010e-02,  -4.33505997e-02,   1.87706994e-03,\n",
      "           -1.15165502e-01,   2.40611285e-02],\n",
      "         [  1.17442846e-01,   1.10817142e-01,   7.85595030e-02,\n",
      "           -7.48959631e-02,   8.75733271e-02],\n",
      "         [ -6.02426846e-03,  -4.01022397e-02,   9.98579636e-02,\n",
      "           -8.79922733e-02,   1.14352867e-01],\n",
      "         [ -6.10372089e-02,  -1.15997672e-01,  -6.72671339e-03,\n",
      "           -4.82298732e-02,   5.89834107e-03]]]], dtype=float32), array([-0.1387528 , -0.40037483, -0.19551077, -0.17225139, -0.33096033,\n",
      "       -0.40149459, -0.1772559 , -0.18435283], dtype=float32)]\n",
      "{'activation': 'relu', 'trainable': True, 'name': 'activation_37'}\n",
      "[]\n",
      "{'name': 'maxpooling2d_25', 'trainable': True, 'dim_ordering': 'th', 'pool_size': (2, 2), 'strides': (2, 2), 'border_mode': 'valid'}\n",
      "[]\n",
      "{'p': 0.25, 'trainable': True, 'name': 'dropout_37'}\n",
      "[]\n",
      "{'trainable': True, 'name': 'flatten_13'}\n",
      "[]\n",
      "{'W_constraint': None, 'b_constraint': None, 'name': 'dense_25', 'activity_regularizer': None, 'trainable': True, 'init': 'glorot_uniform', 'bias': True, 'activation': 'linear', 'input_dim': None, 'b_regularizer': None, 'W_regularizer': None, 'output_dim': 128}\n",
      "[array([[ 0.00117954,  0.01232695, -0.00674792, ...,  0.01439948,\n",
      "        -0.00097681, -0.0185747 ],\n",
      "       [-0.01588059,  0.00904776, -0.01026574, ...,  0.01195696,\n",
      "         0.00053687,  0.0037771 ],\n",
      "       [-0.00818726, -0.00874588,  0.00138066, ..., -0.01350301,\n",
      "        -0.01717798,  0.01300423],\n",
      "       ..., \n",
      "       [-0.00613628,  0.01424677,  0.00298529, ...,  0.0151162 ,\n",
      "        -0.00479638,  0.00095868],\n",
      "       [ 0.00435254, -0.00604031, -0.00205121, ...,  0.01496195,\n",
      "         0.00755386,  0.00379781],\n",
      "       [ 0.00621053, -0.00777286,  0.00409441, ...,  0.00384504,\n",
      "         0.01353014, -0.01300192]], dtype=float32), array([-0.04653298, -0.04898842, -0.02343515, -0.07149286, -0.05257693,\n",
      "       -0.04791377, -0.10643045, -0.01935841, -0.01757799, -0.02182774,\n",
      "       -0.03561309, -0.03933359, -0.01668571, -0.02060998, -0.00770398,\n",
      "       -0.0388421 , -0.02745538, -0.12362985, -0.04067812, -0.01906118,\n",
      "       -0.02626062, -0.01741999, -0.01031557, -0.05056956, -0.03127674,\n",
      "       -0.01363769, -0.00899516, -0.05467011, -0.0249988 , -0.01682734,\n",
      "       -0.04171136, -0.00861675, -0.01978843, -0.08146115, -0.0245182 ,\n",
      "       -0.03522681, -0.04953163, -0.092917  , -0.04799132, -0.02114905,\n",
      "       -0.00753943, -0.01059244, -0.02109201, -0.01133859, -0.02002745,\n",
      "       -0.01740203, -0.05113794, -0.01414974, -0.00882194, -0.04733566,\n",
      "       -0.02499952, -0.02161572, -0.0137536 , -0.06818455, -0.0156246 ,\n",
      "       -0.01780007, -0.07364646, -0.0264966 , -0.13930455, -0.07642211,\n",
      "       -0.02611018, -0.00770491, -0.03007748, -0.02166503, -0.05304481,\n",
      "       -0.06770658, -0.02764619, -0.0068587 , -0.0070278 , -0.03323678,\n",
      "       -0.02795913, -0.08481658, -0.06169929, -0.00580204, -0.03041464,\n",
      "       -0.05416139, -0.04504484, -0.07674941, -0.00698048, -0.16481142,\n",
      "       -0.09160758, -0.03750252, -0.01844116, -0.03407767, -0.05256853,\n",
      "       -0.03276408, -0.05152982, -0.06675429, -0.06454687, -0.01148559,\n",
      "       -0.01640172, -0.02665271, -0.03571248, -0.01884257, -0.01355843,\n",
      "       -0.01897172, -0.01679591, -0.03259171, -0.0743326 , -0.03333575,\n",
      "       -0.03345846, -0.02897404, -0.04756314, -0.04934968, -0.01767429,\n",
      "       -0.00171549, -0.016422  , -0.0428093 , -0.03650408, -0.03266839,\n",
      "       -0.02817281, -0.0160338 , -0.01723261, -0.17313398, -0.01823115,\n",
      "       -0.02580331, -0.02116458, -0.01443953, -0.01071548, -0.02945114,\n",
      "       -0.03206462, -0.0787291 , -0.0432349 , -0.05222875, -0.02424497,\n",
      "       -0.04730809, -0.00751963, -0.03312142], dtype=float32)]\n",
      "{'activation': 'relu', 'trainable': True, 'name': 'activation_38'}\n",
      "[]\n",
      "{'p': 0.5, 'trainable': True, 'name': 'dropout_38'}\n",
      "[]\n",
      "{'W_constraint': None, 'b_constraint': None, 'name': 'dense_26', 'activity_regularizer': None, 'trainable': True, 'init': 'glorot_uniform', 'bias': True, 'activation': 'linear', 'input_dim': None, 'b_regularizer': None, 'W_regularizer': None, 'output_dim': 10}\n",
      "[array([[ 0.16331096,  0.01552056, -0.0423604 , ...,  0.02791551,\n",
      "         0.08220582,  0.1058868 ],\n",
      "       [ 0.16354303,  0.17493585, -0.04444314, ..., -0.11834309,\n",
      "         0.05522102,  0.17934284],\n",
      "       [-0.01764215, -0.0066122 , -0.14728822, ..., -0.08312868,\n",
      "        -0.063008  , -0.04105728],\n",
      "       ..., \n",
      "       [ 0.16751076, -0.11993112,  0.05762052, ..., -0.10515943,\n",
      "         0.16961136, -0.10429306],\n",
      "       [ 0.07819784,  0.10643266, -0.07012148, ...,  0.0600551 ,\n",
      "         0.0022757 , -0.18423964],\n",
      "       [ 0.06605306,  0.01283454,  0.13638349, ..., -0.11360473,\n",
      "         0.14268544, -0.18052104]], dtype=float32), array([ 0.10353164,  0.03861556,  0.14885996,  0.12122204,  0.05269912,\n",
      "       -0.0327942 ,  0.03956925, -0.10873635, -0.07652283, -0.28644234], dtype=float32)]\n",
      "{'activation': 'softmax', 'trainable': True, 'name': 'activation_39'}\n",
      "[]\n"
     ]
    }
   ],
   "source": [
    "for layer in model.layers:\n",
    "    print layer.get_config()\n",
    "    print layer.get_weights()\n"
   ]
  },
  {
   "cell_type": "code",
   "execution_count": 119,
   "metadata": {
    "collapsed": true
   },
   "outputs": [],
   "source": [
    "model.save_weights('./model/saved_weights_not_converged.h5')"
   ]
  },
  {
   "cell_type": "markdown",
   "metadata": {},
   "source": [
    "###Visualise what the CNN has learnt\n",
    "Inspired by https://github.com/fchollet/keras/blob/master/examples/conv_filter_visualization.py and https://blog.keras.io/how-convolutional-neural-networks-see-the-world.html"
   ]
  },
  {
   "cell_type": "code",
   "execution_count": 115,
   "metadata": {
    "collapsed": false
   },
   "outputs": [
    {
     "ename": "KeyError",
     "evalue": "'convolution2d_25'",
     "output_type": "error",
     "traceback": [
      "\u001b[0;31m---------------------------------------------------------------------------\u001b[0m",
      "\u001b[0;31mKeyError\u001b[0m                                  Traceback (most recent call last)",
      "\u001b[0;32m<ipython-input-115-20c36ac6ffc7>\u001b[0m in \u001b[0;36m<module>\u001b[0;34m()\u001b[0m\n\u001b[1;32m      3\u001b[0m \u001b[0mlayer_name\u001b[0m \u001b[0;34m=\u001b[0m \u001b[0;34m'convolution2d_25'\u001b[0m\u001b[0;34m\u001b[0m\u001b[0m\n\u001b[1;32m      4\u001b[0m \u001b[0mlayer_dict\u001b[0m \u001b[0;34m=\u001b[0m \u001b[0mdict\u001b[0m\u001b[0;34m(\u001b[0m\u001b[0;34m[\u001b[0m\u001b[0;34m(\u001b[0m\u001b[0mlayer\u001b[0m\u001b[0;34m.\u001b[0m\u001b[0mname\u001b[0m\u001b[0;34m,\u001b[0m \u001b[0mlayer\u001b[0m\u001b[0;34m)\u001b[0m \u001b[0;32mfor\u001b[0m \u001b[0mlayer\u001b[0m \u001b[0;32min\u001b[0m \u001b[0mmodel\u001b[0m\u001b[0;34m.\u001b[0m\u001b[0mlayers\u001b[0m\u001b[0;34m[\u001b[0m\u001b[0;36m1\u001b[0m\u001b[0;34m:\u001b[0m\u001b[0;34m]\u001b[0m\u001b[0;34m]\u001b[0m\u001b[0;34m)\u001b[0m\u001b[0;34m\u001b[0m\u001b[0m\n\u001b[0;32m----> 5\u001b[0;31m \u001b[0mlayer_output\u001b[0m \u001b[0;34m=\u001b[0m \u001b[0mlayer_dict\u001b[0m\u001b[0;34m[\u001b[0m\u001b[0mlayer_name\u001b[0m\u001b[0;34m]\u001b[0m\u001b[0;34m.\u001b[0m\u001b[0moutput\u001b[0m\u001b[0;34m\u001b[0m\u001b[0m\n\u001b[0m\u001b[1;32m      6\u001b[0m \u001b[0;34m\u001b[0m\u001b[0m\n\u001b[1;32m      7\u001b[0m \u001b[0;31m# Number of filters\u001b[0m\u001b[0;34m\u001b[0m\u001b[0;34m\u001b[0m\u001b[0m\n",
      "\u001b[0;31mKeyError\u001b[0m: 'convolution2d_25'"
     ]
    }
   ],
   "source": [
    "# the name of the layer we want to visualize\n",
    "# (see model definition at keras/applications/vgg16.py)\n",
    "layer_name = 'convolution2d_25'\n",
    "layer_dict = dict([(layer.name, layer) for layer in model.layers[1:]])\n",
    "layer_output = layer_dict[layer_name].output\n",
    "\n",
    "# Number of filters\n",
    "n = 8\n",
    "\n",
    "# the filters that have the highest loss are assumed to be better-looking.\n",
    "# we will only keep the top 64 filters.\n",
    "kept_filters.sort(key=lambda x: x[1], reverse=True)\n",
    "kept_filters = kept_filters[:n * n]\n",
    "\n",
    "# build a black picture with enough space for\n",
    "# our 8 x 8 filters of size 128 x 128, with a 5px margin in between\n",
    "margin = 5\n",
    "width = n * img_width + (n - 1) * margin\n",
    "height = n * img_height + (n - 1) * margin\n",
    "stitched_filters = np.zeros((width, height, 3))\n",
    "\n",
    "# fill the picture with our saved filters\n",
    "for i in range(n):\n",
    "    for j in range(n):\n",
    "        img, loss = kept_filters[i * n + j]\n",
    "        stitched_filters[(img_width + margin) * i: (img_width + margin) * i + img_width,\n",
    "                         (img_height + margin) * j: (img_height + margin) * j + img_height, :] = img\n",
    "\n",
    "# save the result to disk\n",
    "imsave('stitched_filters_%dx%d.png' % (n, n), stitched_filters)"
   ]
  },
  {
   "cell_type": "code",
   "execution_count": null,
   "metadata": {
    "collapsed": true
   },
   "outputs": [],
   "source": []
  },
  {
   "cell_type": "code",
   "execution_count": null,
   "metadata": {
    "collapsed": true
   },
   "outputs": [],
   "source": []
  },
  {
   "cell_type": "markdown",
   "metadata": {},
   "source": [
    "## Predict based on the test data"
   ]
  },
  {
   "cell_type": "code",
   "execution_count": 368,
   "metadata": {
    "collapsed": false
   },
   "outputs": [],
   "source": [
    "# Load the test data\n",
    "def load_test_images(test_images_dir):\n",
    "    total = 0\n",
    "    images = []\n",
    "    image_ids = []\n",
    "    test_image_list = os.listdir(test_images_dir)\n",
    "    num_test_images = len(test_image_list)\n",
    "    for i in range(0,num_test_images):\n",
    "        filename = test_images_dir + test_image_list[i]\n",
    "        image = cv2.imread(filename, 0).transpose()  # Is the color_type needed here as these are pre-processed images??\n",
    "        images.append(image)  \n",
    "        image_ids.append(test_image_list[i])\n",
    "        total += 1\n",
    "        if total % 100 == 0:\n",
    "            print \".\",\n",
    "    print \"\\nProcesses {} rows.\".format(total)\n",
    "    \n",
    "    images = np.array(images, dtype=np.uint8)\n",
    "    images = images.reshape(images.shape[0], color_type, image_width, image_height)\n",
    "    images = images.astype('float32')\n",
    "    images /= 255\n",
    "    \n",
    "    return images, np.array(image_ids)\n",
    "\n",
    "#test_image_batches = split_test_data(test_images_dir)"
   ]
  },
  {
   "cell_type": "code",
   "execution_count": 364,
   "metadata": {
    "collapsed": false
   },
   "outputs": [
    {
     "name": "stdout",
     "output_type": "stream",
     "text": [
      ". . . . . . . . . . . . . . . . . . . . . . . . . . . . . . . . . . . . . . . . . . . . . . . . . . . . . . . . . . . . . . . . . . . . . . . . . . . . . . . . . . . . . . . . . . . . . . . . . . . . . . . . . . . . . . . . . . . . . . . . . . . . . . . . . . . . . . . . . . . . . . . . . . . . . . . . . . . . . . . . . . . . . . . . . . . . . . . . . . . . . . . . . . . . . . . . . . . . . . . . . . . . . . . . . . . . . . . . . . . . . . . . . . . . . . . . . . . . . . . . . . . . . . . . . . . . . . . . . . . . . . . . . . . . . . . . . . . . . . . . . . . . . . . . . . . . . . . . . . . . . . . . . . . . . . . . . . . . . . . . . . . . . . . . . . . . . . . . . . . . . . . . . . . . . . . . . . . . . . . . . . . . . . . . . . . . . . . . . . . . . . . . . . . . . . . . . . . . . . . . . . . . . . . . . . . . . . . . . . . . . . . . . . . . . . . . . . . . . . . . . . . . . . . . . . . . . . . . . . . . . . . . . . . . . . . . . . . . . . . . . . . . . . . . . . . . . . . . . . . . . . . . . . . . . . . . . . . . . . . . . . . . . . . . . . . . . . . . . . . . . . . . . . . . . . . . . . . . . . . . . . . . . . . . . . . . . . . . . . . . . . . . . . . . . . . . . . . . . . . . . . . . . . . . . . . . . . . . . . . . . . . . . . . . . . . . . . . . . . . . . . . . . . . . . . . . . . . . . . . . . . . . . . . . . . . . . . . . . . . . . . . . . . . . . . . . . . . . . . . . . . . . . . . . . . . . . . . . . . . . . . . . . . . . . . . . . . . . . . . . . . . . . . . . . . . . . . . . . . . . . . . . . . . . . . . . . . . . . . . . . . . . . . . . . . . . . . . . . \n",
      "Processes 79726 rows.\n",
      "(79726, 1, 80, 60)\n",
      "(79726,)\n"
     ]
    }
   ],
   "source": [
    "test_data, test_ids = load_test_images(test_images_dir)  \n",
    "print test_data.shape\n",
    "print test_ids.shape"
   ]
  },
  {
   "cell_type": "code",
   "execution_count": 365,
   "metadata": {
    "collapsed": false
   },
   "outputs": [
    {
     "name": "stdout",
     "output_type": "stream",
     "text": [
      "79726/79726 [==============================] - 55s    \n"
     ]
    }
   ],
   "source": [
    "predictions = model.predict(test_data, batch_size = 128, verbose = 1)"
   ]
  },
  {
   "cell_type": "code",
   "execution_count": 366,
   "metadata": {
    "collapsed": false
   },
   "outputs": [
    {
     "name": "stdout",
     "output_type": "stream",
     "text": [
      "(79726, 10)\n"
     ]
    }
   ],
   "source": [
    "print predictions.shape"
   ]
  },
  {
   "cell_type": "code",
   "execution_count": 367,
   "metadata": {
    "collapsed": false
   },
   "outputs": [],
   "source": [
    "import datetime\n",
    "def create_submission(predictions, test_ids, test_info):\n",
    "    result = pd.DataFrame(predictions, columns=['c0', 'c1', 'c2', 'c3', 'c4', 'c5', 'c6', 'c7', 'c8', 'c9'])\n",
    "    result.loc[:, 'img'] = pd.Series(test_ids, index=result.index)\n",
    "    now = datetime.datetime.now()\n",
    "    if not os.path.isdir('submission'):\n",
    "        os.mkdir('submission')\n",
    "    suffix = test_info + '_' + str(now.strftime(\"%Y-%m-%d-%H-%M\"))\n",
    "    sub_file = os.path.join('submission', 'submission_' + suffix + '.csv')\n",
    "    result.to_csv(sub_file, index=False)\n",
    "\n",
    "test_info = 'loss_' + str(score) \\\n",
    "                + '_h_' + str(image_height) \\\n",
    "                + '_w_' + str(image_width) \\\n",
    "                + '_ep_' + str(num_epochs)\n",
    "create_submission(predictions, test_ids, test_info)"
   ]
  },
  {
   "cell_type": "code",
   "execution_count": null,
   "metadata": {
    "collapsed": true
   },
   "outputs": [],
   "source": []
  },
  {
   "cell_type": "markdown",
   "metadata": {},
   "source": [
    "###VGG16 model\n",
    "From https://gist.github.com/baraldilorenzo/07d7802847aaad0a35d3\n",
    "Also see:\n",
    "http://blog.christianperone.com/2016/01/convolutional-hypercolumns-in-python/\n"
   ]
  },
  {
   "cell_type": "code",
   "execution_count": 16,
   "metadata": {
    "collapsed": true
   },
   "outputs": [],
   "source": [
    "def vgg16(num_classes, weights_path=None):\n",
    "    \n",
    "    # Create callback for history report\n",
    "    from keras.callbacks import Callback\n",
    "    class LossHistory(Callback):\n",
    "        def on_train_begin(self, logs={}):\n",
    "            self.losses = []\n",
    "\n",
    "        def on_batch_end(self, batch, logs={}):\n",
    "            self.losses.append(logs.get('loss'))\n",
    "\n",
    "    model = Sequential()\n",
    "    \n",
    "    model.add(ZeroPadding2D((1,1),input_shape=(3,224,224)))\n",
    "    model.add(Convolution2D(64, 3, 3, activation='relu'))\n",
    "    model.add(ZeroPadding2D((1,1)))\n",
    "    model.add(Convolution2D(64, 3, 3, activation='relu'))\n",
    "    model.add(MaxPooling2D((2,2), strides=(2,2)))\n",
    "\n",
    "    model.add(ZeroPadding2D((1,1)))\n",
    "    model.add(Convolution2D(128, 3, 3, activation='relu'))\n",
    "    model.add(ZeroPadding2D((1,1)))\n",
    "    model.add(Convolution2D(128, 3, 3, activation='relu'))\n",
    "    model.add(MaxPooling2D((2,2), strides=(2,2)))\n",
    "\n",
    "    model.add(ZeroPadding2D((1,1)))\n",
    "    model.add(Convolution2D(256, 3, 3, activation='relu'))\n",
    "    model.add(ZeroPadding2D((1,1)))\n",
    "    model.add(Convolution2D(256, 3, 3, activation='relu'))\n",
    "    model.add(ZeroPadding2D((1,1)))\n",
    "    model.add(Convolution2D(256, 3, 3, activation='relu'))\n",
    "    model.add(MaxPooling2D((2,2), strides=(2,2)))\n",
    "\n",
    "    model.add(ZeroPadding2D((1,1)))\n",
    "    model.add(Convolution2D(512, 3, 3, activation='relu'))\n",
    "    model.add(ZeroPadding2D((1,1)))\n",
    "    model.add(Convolution2D(512, 3, 3, activation='relu'))\n",
    "    model.add(ZeroPadding2D((1,1)))\n",
    "    model.add(Convolution2D(512, 3, 3, activation='relu'))\n",
    "    model.add(MaxPooling2D((2,2), strides=(2,2)))\n",
    "\n",
    "    model.add(ZeroPadding2D((1,1)))\n",
    "    model.add(Convolution2D(512, 3, 3, activation='relu'))\n",
    "    model.add(ZeroPadding2D((1,1)))\n",
    "    model.add(Convolution2D(512, 3, 3, activation='relu'))\n",
    "    model.add(ZeroPadding2D((1,1)))\n",
    "    model.add(Convolution2D(512, 3, 3, activation='relu'))\n",
    "    model.add(MaxPooling2D((2,2), strides=(2,2)))\n",
    "\n",
    "    model.add(Flatten())\n",
    "    model.add(Dense(4096, activation='relu'))\n",
    "    model.add(Dropout(0.5))\n",
    "    model.add(Dense(4096, activation='relu'))\n",
    "    model.add(Dropout(0.5))\n",
    "    model.add(Dense(1000, activation='softmax'))\n",
    "\n",
    "    if weights_path:\n",
    "        print \"Loading weights from {}\".format(weights_path)\n",
    "        model.load_weights(weights_path)\n",
    "        \n",
    "    # Now replace the top layer with one for our own purposes\n",
    "    model.layers.pop()\n",
    "    model.add(Dense(num_classes, activation='softmax'))\n",
    "\n",
    "    #TODO - Rework model based on \n",
    "    return model, LossHistory"
   ]
  }
 ],
 "metadata": {
  "kernelspec": {
   "display_name": "Python 2",
   "language": "python",
   "name": "python2"
  },
  "language_info": {
   "codemirror_mode": {
    "name": "ipython",
    "version": 2
   },
   "file_extension": ".py",
   "mimetype": "text/x-python",
   "name": "python",
   "nbconvert_exporter": "python",
   "pygments_lexer": "ipython2",
   "version": "2.7.11"
  }
 },
 "nbformat": 4,
 "nbformat_minor": 0
}
