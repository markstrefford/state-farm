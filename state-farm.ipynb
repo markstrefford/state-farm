{
 "cells": [
  {
   "cell_type": "markdown",
   "metadata": {},
   "source": [
    "# Analysis of the State Farm image data\n",
    "\n",
    "This notebook provides analysis of the provided State Farm data, using Theano and Keras to build the NN.\n",
    "\n",
    "Note that the data is available from Kaggle here:  \n",
    "https://www.kaggle.com/c/state-farm-distracted-driver-detection/data\n"
   ]
  },
  {
   "cell_type": "markdown",
   "metadata": {},
   "source": [
    "## Set up the environment\n",
    "First, let's import what we need and set up environment variables, etc."
   ]
  },
  {
   "cell_type": "code",
   "execution_count": 2,
   "metadata": {
    "collapsed": false,
    "scrolled": true
   },
   "outputs": [
    {
     "ename": "Exception",
     "evalue": "Can't change the value of this config parameter after initialization!",
     "output_type": "error",
     "traceback": [
      "\u001b[0;31m---------------------------------------------------------------------------\u001b[0m",
      "\u001b[0;31mException\u001b[0m                                 Traceback (most recent call last)",
      "\u001b[0;32m<ipython-input-2-e246e7cb99d9>\u001b[0m in \u001b[0;36m<module>\u001b[0;34m()\u001b[0m\n\u001b[1;32m      1\u001b[0m \u001b[0;32mimport\u001b[0m \u001b[0mtheano\u001b[0m\u001b[0;34m\u001b[0m\u001b[0m\n\u001b[0;32m----> 2\u001b[0;31m \u001b[0mtheano\u001b[0m\u001b[0;34m.\u001b[0m\u001b[0mconfig\u001b[0m\u001b[0;34m.\u001b[0m\u001b[0mdevice\u001b[0m \u001b[0;34m=\u001b[0m \u001b[0;34m'gpu'\u001b[0m\u001b[0;34m\u001b[0m\u001b[0m\n\u001b[0m\u001b[1;32m      3\u001b[0m \u001b[0mtheano\u001b[0m\u001b[0;34m.\u001b[0m\u001b[0mconfig\u001b[0m\u001b[0;34m.\u001b[0m\u001b[0mfloatX\u001b[0m \u001b[0;34m=\u001b[0m \u001b[0;34m'float32'\u001b[0m\u001b[0;34m\u001b[0m\u001b[0m\n",
      "\u001b[0;32m/usr/local/lib/python2.7/site-packages/theano/configparser.pyc\u001b[0m in \u001b[0;36m__set__\u001b[0;34m(self, cls, val)\u001b[0m\n\u001b[1;32m    329\u001b[0m         \u001b[0;32mif\u001b[0m \u001b[0;32mnot\u001b[0m \u001b[0mself\u001b[0m\u001b[0;34m.\u001b[0m\u001b[0mallow_override\u001b[0m \u001b[0;32mand\u001b[0m \u001b[0mhasattr\u001b[0m\u001b[0;34m(\u001b[0m\u001b[0mself\u001b[0m\u001b[0;34m,\u001b[0m \u001b[0;34m'val'\u001b[0m\u001b[0;34m)\u001b[0m\u001b[0;34m:\u001b[0m\u001b[0;34m\u001b[0m\u001b[0m\n\u001b[1;32m    330\u001b[0m             raise Exception(\n\u001b[0;32m--> 331\u001b[0;31m                 \u001b[0;34m\"Can't change the value of this config parameter \"\u001b[0m\u001b[0;34m\u001b[0m\u001b[0m\n\u001b[0m\u001b[1;32m    332\u001b[0m                 \"after initialization!\")\n\u001b[1;32m    333\u001b[0m         \u001b[0;31m# print \"SETTING PARAM\", self.fullname,(cls), val\u001b[0m\u001b[0;34m\u001b[0m\u001b[0;34m\u001b[0m\u001b[0m\n",
      "\u001b[0;31mException\u001b[0m: Can't change the value of this config parameter after initialization!"
     ]
    }
   ],
   "source": [
    "import theano\n",
    "theano.config.device = 'gpu'\n",
    "theano.config.floatX = 'float32'"
   ]
  },
  {
   "cell_type": "code",
   "execution_count": 3,
   "metadata": {
    "collapsed": false
   },
   "outputs": [],
   "source": [
    "# Imports of the relevant libraries\n",
    "import numpy as np\n",
    "import pandas as pd\n",
    "import os\n",
    "import sys\n",
    "import matplotlib.pyplot as plt\n",
    "# display plots in this notebook\n",
    "%matplotlib inline\n",
    "\n",
    "# These are the locations of the images provided by Kaggle\n",
    "# Root Dir is needed for Python, but not for create lmdb shell script later... (we need it there too!)\n",
    "image_root_dir = './imgs/'\n",
    "train_image_source_dir = \"./train/\"\n",
    "test_image_source_dir = \"./test/\"\n",
    "driver_image_list = \"./driver_imgs_list.csv\"\n",
    "\n",
    "# These are the locations of the images that we will work with \n",
    "# Note that as we're continually mix up training and validation drivers/images, \n",
    "# then we will store images in one directory and use code to determine whether to train or validate\n",
    "train_images_dir = \"./images/train/\"\n",
    "#validation_images_dir = \"./images/validate/\" \n",
    "test_images_dir = \"./images/test/\"\n",
    "\n",
    "# Some more controls\n",
    "# color type: 1 - grey, 3 - rgb\n",
    "color_type = 1 \n",
    "image_width = 224 #80\n",
    "image_height = 224 #60"
   ]
  },
  {
   "cell_type": "markdown",
   "metadata": {},
   "source": [
    "## Start by pre-processing the images\n",
    "There are only 27 different drivers so in order to avoid overfitting, or testing using very similar data to training, we will split the data based on the driver into train and validation sets.\n",
    "\n",
    "Initially though, let's get the list of drivers, see how many images are available for each driver, and which classification they have been labelled with.\n"
   ]
  },
  {
   "cell_type": "code",
   "execution_count": 4,
   "metadata": {
    "collapsed": false
   },
   "outputs": [
    {
     "name": "stdout",
     "output_type": "stream",
     "text": [
      "Training data summary: \n",
      "  subject classname            img\n",
      "0    p002        c0  img_44733.jpg\n",
      "1    p002        c0  img_72999.jpg\n",
      "2    p002        c0  img_25094.jpg\n",
      "3    p002        c0  img_69092.jpg\n",
      "4    p002        c0  img_92629.jpg\n",
      "\n",
      "Testing data summary: \n",
      "['img_1.jpg', 'img_10.jpg', 'img_100.jpg', 'img_1000.jpg', 'img_100000.jpg', 'img_100001.jpg', 'img_100002.jpg', 'img_100003.jpg', 'img_100004.jpg']\n"
     ]
    }
   ],
   "source": [
    "# Training set is in the provided csv file\n",
    "driver_list = pd.read_csv(driver_image_list)\n",
    "print \"Training data summary: \\n{}\".format(driver_list.head())\n",
    "\n",
    "test_image_list = os.listdir(image_root_dir + test_image_source_dir)\n",
    "print \"\\nTesting data summary: \\n{}\".format(test_image_list[0:9])"
   ]
  },
  {
   "cell_type": "markdown",
   "metadata": {},
   "source": [
    "Process images so that they are in an format more suited to training and testing"
   ]
  },
  {
   "cell_type": "code",
   "execution_count": 5,
   "metadata": {
    "collapsed": false
   },
   "outputs": [
    {
     "name": "stdout",
     "output_type": "stream",
     "text": [
      "Total number of training images found 22424\n"
     ]
    }
   ],
   "source": [
    "def get_driver_images_and_classes(driver_list):\n",
    "    image_list = []\n",
    "    class_list = []\n",
    "    total = 0\n",
    "    for driver_row in [ drvr for drvr in driver_list.iterrows() ]:   # if drvr[1]['subject'] in filter \n",
    "        driver = driver_row[1]  # Drop the index created by the Pandas Dataframe\n",
    "        driver_class = int(driver['classname'][1:])  # Get integer to represent class (eg 'c0' is class '0')\n",
    "        image_list.append(driver['img'])\n",
    "        class_list.append(driver_class)\n",
    "        total += 1\n",
    "    print \"Total number of training images found {}\".format(total)\n",
    "    #Return a list of images and their classification\n",
    "    return np.array(image_list), np.array(class_list)\n",
    "\n",
    "# Create a training list of images and classes from the training set\n",
    "images, classes = get_driver_images_and_classes(driver_list)"
   ]
  },
  {
   "cell_type": "code",
   "execution_count": 6,
   "metadata": {
    "collapsed": false
   },
   "outputs": [],
   "source": [
    "import cv2\n",
    "\n",
    "# Process the image, for now this is resize only\n",
    "# We'll handle colour/greyscale when we load as cv2 does this for us\n",
    "# TODO - Move directory creation to Python code to be OS independent\n",
    "\n",
    "def pre_process_image(image):\n",
    "    processed_img = cv2.resize(image, (image_width, image_height)) \n",
    "    return processed_img\n",
    "    \n",
    "def create_train_image_repository(images_dest_dir, images_list, class_list, color_type=1):\n",
    "    print \"create_image_repository(): Processing images into {}\".format(images_dest_dir)\n",
    "    copied = 0 \n",
    "    for f, c in zip(images_list, class_list):\n",
    "        dest_dir = images_dest_dir + str(c) + \"/\"\n",
    "        if os.path.exists(dest_dir) == False:\n",
    "            !mkdir $dest_dir\n",
    "        image_filename = image_root_dir + train_image_source_dir + '/c' + str(c) + '/' + f\n",
    "        if color_type == 1:\n",
    "            orig_img = cv2.imread(image_filename, 0)\n",
    "        elif color_type == 3:\n",
    "            orig_img = cv2.imread(image_filename)\n",
    "        processed_image = pre_process_image(orig_img)\n",
    "        cv2.imwrite(images_dest_dir + str(c) + \"/\" + f, processed_image)\n",
    "        copied += 1\n",
    "        if copied % 100 == 0:\n",
    "            print \".\",\n",
    "    print \"\\nCopied {} images...Done!\".format(copied)\n",
    "    return copied\n",
    "\n",
    "def create_test_image_repository(dest_dir, images_list, color_type=1):\n",
    "    print \"create_image_repository(): Processing images into {}\".format(dest_dir)\n",
    "    copied = 0 \n",
    "    for f in images_list:\n",
    "        if os.path.exists(dest_dir) == False:\n",
    "            !mkdir $dest_dir\n",
    "        image_filename = image_root_dir + test_image_source_dir + f\n",
    "        if color_type == 1:\n",
    "            orig_img = cv2.imread(image_filename, 0)\n",
    "        elif color_type == 3:\n",
    "            orig_img = cv2.imread(image_filename)\n",
    "        processed_image = pre_process_image(orig_img)\n",
    "        cv2.imwrite(dest_dir + f, processed_image)\n",
    "        copied += 1\n",
    "        if copied % 100 == 0:\n",
    "            print \".\",\n",
    "    print \"\\nCopied {} images...Done!\".format(copied)\n",
    "    return copied"
   ]
  },
  {
   "cell_type": "markdown",
   "metadata": {},
   "source": [
    "## Pre-process images if required"
   ]
  },
  {
   "cell_type": "code",
   "execution_count": 8,
   "metadata": {
    "collapsed": false,
    "scrolled": true
   },
   "outputs": [],
   "source": [
    "# Start by clearing out any old data (ignore failures here if the directory doesn't exist)\n",
    "# TODO - Move to Python code to be OS independent\n",
    "\n",
    "create_repository = False    # True forces creation of the processed images, \n",
    "                            # Set to False if this has been done previously\n",
    "if create_repository:\n",
    "    print \"Deleting old repositories if they exist, this may take a while...\"\n",
    "    !rm -rf $train_images_dir\n",
    "    #!rm -rf $validation_images_dir\n",
    "    !rm -rf $test_images_dir\n",
    "\n",
    "    # Create directories\n",
    "    !mkdir -p $train_images_dir\n",
    "    #!mkdir -p $validation_images_dir\n",
    "    !mkdir -p $test_images_dir\n",
    "\n",
    "    create_test_image_repository(test_images_dir, test_image_list, color_type=color_type)\n",
    "    create_train_image_repository(train_images_dir, images, classes, color_type=color_type)\n"
   ]
  },
  {
   "cell_type": "markdown",
   "metadata": {},
   "source": [
    "## Create train and validation data sets"
   ]
  },
  {
   "cell_type": "markdown",
   "metadata": {},
   "source": [
    "Seperate the drivers into a training and validation set.  To ensure we don't have overfitting (the training set and the validation set contain the same or similar images) we will split on drivers, so a driver can only appear in training or validation but not both.\n"
   ]
  },
  {
   "cell_type": "code",
   "execution_count": 9,
   "metadata": {
    "collapsed": false
   },
   "outputs": [
    {
     "name": "stdout",
     "output_type": "stream",
     "text": [
      "Found 26 drivers: ['p002', 'p012', 'p014', 'p015', 'p016', 'p021', 'p022', 'p024', 'p026', 'p035', 'p039', 'p041', 'p042', 'p045', 'p047', 'p049', 'p050', 'p051', 'p052', 'p056', 'p061', 'p064', 'p066', 'p072', 'p075', 'p081']\n"
     ]
    }
   ],
   "source": [
    "driver_ids = []\n",
    "for id, driver in driver_list.iterrows():\n",
    "    if driver['subject'] not in driver_ids:\n",
    "        driver_ids.append(driver['subject'])\n",
    "print \"Found {} drivers: {}\".format(len(driver_ids), driver_ids)"
   ]
  },
  {
   "cell_type": "code",
   "execution_count": 11,
   "metadata": {
    "collapsed": false
   },
   "outputs": [],
   "source": [
    "def render_image(image_filename):\n",
    "    print \"render_image(): Rendering {}\".format(image_filename)\n",
    "    image = cv2.imread(image_filename, color_type_global)\n",
    "    plt.axis(\"off\")\n",
    "    #plt.imshow(cv2.cvtColor(image, cv2.COLOR_BGR2RGB))\n",
    "    plt.imshow(image)\n",
    "    plt.show() \n",
    "    #print image.shape\n",
    "    #plt.imshow(image)"
   ]
  },
  {
   "cell_type": "markdown",
   "metadata": {},
   "source": [
    "Split into train and validation data tests (split = percentage to have in training set)\n",
    "and then create X_train, y_train, X_valid, y_valid"
   ]
  },
  {
   "cell_type": "code",
   "execution_count": 12,
   "metadata": {
    "collapsed": false
   },
   "outputs": [
    {
     "name": "stdout",
     "output_type": "stream",
     "text": [
      "Creating training data:\n",
      ". . . . . . . . . . . . . . . . . . . . . . . . . . . . . . . . . . . . . . . . . . . . . . . . . . . . . . . . . . . . . . . . . . . . . . . . . . . . . . . . . . . . . . . . . . . . . . . . . . . . . . . . . . . . . . . . . . . . . . . . . . . . . . . . . . . . . . . . . . . . . . . . . . . . . . . . . . . . . . . . . . . . . . . . . . . . . . . . . . . . . . . . . . . . . . . . . . . . . . . . . . . . . \n",
      "Processed 20503 rows.\n",
      "Creating validation data:\n",
      ". . . . . . . . . . . . . . . . . . . \n",
      "Processed 1921 rows.\n"
     ]
    },
    {
     "name": "stderr",
     "output_type": "stream",
     "text": [
      "Using Theano backend.\n"
     ]
    }
   ],
   "source": [
    "from keras.utils import np_utils\n",
    "\n",
    "def create_train_validation_data(driver_list, filter):\n",
    "    #sample = driver_list[driver_list.subject.isin(filter)].ix[:, 'classname':'img']\n",
    "    images = []\n",
    "    labels = []\n",
    "    total = 0\n",
    "    for driver_row in [ drvr for drvr in driver_list[driver_list.subject.isin(filter)].ix[:, 'classname':'img'].iterrows() ]:   # if drvr[1]['subject'] in filter \n",
    "        driver = driver_row[1]  # Drop the index created by the Pandas Dataframe\n",
    "        #print driver\n",
    "        label = int(driver['classname'][1:])\n",
    "        filename = train_images_dir + str(label) + \"/\" + driver['img']\n",
    "        if color_type == 1:\n",
    "            image = cv2.imread(filename, 0).transpose()  # Is the color_type needed here as these are pre-processed images??\n",
    "        elif color_type == 3:\n",
    "            image = cv2.imread(filename).transpose()     # Is the color_type needed here as these are pre-processed images??\n",
    "        images.append(image)\n",
    "        labels.append(label)\n",
    "        total += 1\n",
    "        if total % 100 == 0:\n",
    "            print \".\",\n",
    "    print \"\\nProcessed {} rows.\".format(total)\n",
    "    \n",
    "    images = np.array(images, dtype=np.uint8)\n",
    "    images = images.reshape(images.shape[0], color_type, image_width, image_height)\n",
    "    images = images.astype('float32')\n",
    "    images /= 255\n",
    "    \n",
    "    labels = np.array(labels, dtype=np.uint8)\n",
    "    labels = np_utils.to_categorical(labels, 10)\n",
    "\n",
    "    return images, labels\n",
    "\n"
   ]
  },
  {
   "cell_type": "code",
   "execution_count": 125,
   "metadata": {
    "collapsed": false
   },
   "outputs": [
    {
     "name": "stdout",
     "output_type": "stream",
     "text": [
      "Driver train list: ['p026' 'p072' 'p039' 'p012' 'p081' 'p035' 'p066' 'p015' 'p050' 'p016'\n",
      " 'p052' 'p041' 'p075' 'p064' 'p051' 'p056' 'p049' 'p045' 'p014' 'p061'\n",
      " 'p047' 'p024' 'p002' 'p022' 'p042' 'p021']\n",
      "Driver validation list: []\n"
     ]
    }
   ],
   "source": [
    "def split_drivers_into_train_and_validate(driver_list, split = 1):\n",
    "    driver_valid_list = []\n",
    "    # Take a random sample of drivers into the training list\n",
    "    driver_train_list = np.random.choice(driver_list, int(len(driver_list)*split), replace = False)\n",
    "    # Take the remaining drivers into the validation list\n",
    "    driver_valid_list = [ driver for driver in driver_list if driver not in driver_train_list]\n",
    "    return driver_train_list, driver_valid_list\n",
    "    \n",
    "#X_train, X_test, y_train, y_test = train_test_split(X_all.ix[rows], student_data[target_col].ix[rows], test_size=test_size)\n",
    "\n",
    "training_list, validation_list = split_drivers_into_train_and_validate(driver_ids)\n",
    "print \"Driver train list: {}\".format(training_list)\n",
    "print \"Driver validation list: {}\".format(validation_list)"
   ]
  },
  {
   "cell_type": "code",
   "execution_count": 126,
   "metadata": {
    "collapsed": false
   },
   "outputs": [
    {
     "name": "stdout",
     "output_type": "stream",
     "text": [
      "Creating training data:\n",
      ". . . . . . . . . . . . . . . . . . . . . . . . . . . . . . . . . . . . . . . . . . . . . . . . . . . . . . . . . . . . . . . . . . . . . . . . . . . . . . . . . . . . . . . . . . . . . . . . . . . . . . . . . . . . . . . . . . . . . . . . . . . . . . . . . . . . . . . . . . . . . . . . . . . . . . . . . . . . . . . . . . . . . . . . . . . . . . . . . . . . . . . . . . . . . . . . . . . . . . . . . . . . . . . . . . . . . . . . . . . . . . . . \n",
      "Processed 22424 rows.\n",
      "Creating validation data:\n",
      "\n",
      "Processed 0 rows.\n"
     ]
    }
   ],
   "source": [
    "# TODO - Add in random ordering of training data!!\n",
    "# index = np.random.choice(range(0, num_training_samples), num_training_samples, replace = False) # Random ordering\n",
    "# ...driver_list[index], training_list[index]\n",
    "print \"Creating training data:\"\n",
    "X_train, y_train = create_train_validation_data(driver_list, training_list)\n",
    "print \"Creating validation data:\"\n",
    "X_valid, y_valid = create_train_validation_data(driver_list, validation_list)\n",
    "\n",
    "\n",
    "\n"
   ]
  },
  {
   "cell_type": "code",
   "execution_count": 137,
   "metadata": {
    "collapsed": false
   },
   "outputs": [
    {
     "name": "stdout",
     "output_type": "stream",
     "text": [
      "(22424, 1, 224, 224)\n",
      "(22424, 10)\n",
      "(0, 1, 224, 224)\n",
      "(0, 10)\n"
     ]
    }
   ],
   "source": [
    "print X_train.shape\n",
    "print y_train.shape\n",
    "num_training_samples = X_train.shape[0]\n",
    "print X_valid.shape\n",
    "print y_valid.shape\n",
    "num_validation_samples = X_valid.shape[0]"
   ]
  },
  {
   "cell_type": "markdown",
   "metadata": {},
   "source": [
    "## Create an inital CNN using Keras\n",
    "Starting with no pre-loaded weights though as we'll train this with our own data.\n",
    "Based on example here http://keras.io\n",
    "\n",
    "TODO: In a future iteration, we'll play about with this architecture and the activation, optimizer and loss functions"
   ]
  },
  {
   "cell_type": "code",
   "execution_count": 165,
   "metadata": {
    "collapsed": false,
    "scrolled": false
   },
   "outputs": [],
   "source": [
    "from keras.models import Sequential\n",
    "from keras.layers.core import Flatten, Dense, Dropout\n",
    "from keras.layers.convolutional import Convolution2D, MaxPooling2D, ZeroPadding2D  \n",
    "from keras.layers import Dense, Flatten, Activation, Dropout, MaxPooling1D\n",
    "from keras.optimizers import Adam, SGD"
   ]
  },
  {
   "cell_type": "markdown",
   "metadata": {},
   "source": [
    "###Custom Keras Model"
   ]
  },
  {
   "cell_type": "code",
   "execution_count": null,
   "metadata": {
    "collapsed": false
   },
   "outputs": [],
   "source": [
    "def custom_keras_model(num_classes, weights_path=None, w_regularizer = None, b_regularizer = None):\n",
    "    num_filters = 8      #number of filters to apply/learn in the 1D convolutional layer\n",
    "    num_pooling = 2\n",
    "    #filter_length = 5     #linear length of each filter (this is 1D)\n",
    "    num_filters_2 = 8\n",
    "\n",
    "    #num_filters = 8      #number of filters to apply/learn in the 1D convolutional layer\n",
    "    #num_pooling = 2\n",
    "    filter_length = 2     #linear length of each filter (this is 1D)\n",
    "    #num_filters_2 = 16\n",
    "    \n",
    "    # Create callback for history report\n",
    "    from keras.callbacks import Callback\n",
    "    class LossHistory(Callback):\n",
    "        def on_train_begin(self, logs={}):\n",
    "            self.losses = []\n",
    "\n",
    "        def on_batch_end(self, batch, logs={}):\n",
    "            self.losses.append(logs.get('loss'))\n",
    "    \n",
    "    \n",
    "    #from keras.utils.dot_utils import Grapher\n",
    "    \n",
    "    model = Sequential()\n",
    "    #grapher = Grapher()\n",
    "\n",
    "    # Now create the NN architecture (version 1)\n",
    "    # Going with colour for now!!\n",
    "    model.add(Convolution2D(num_filters, filter_length, filter_length, border_mode=\"valid\", \n",
    "                        activation=\"relu\", \n",
    "                        W_regularizer = w_regularizer, b_regularizer = b_regularizer,\n",
    "                        input_shape=(color_type, image_width, image_height)))\n",
    "    \n",
    "    # Added\n",
    "    model.add(MaxPooling2D(pool_size=(num_pooling, num_pooling)))  \n",
    "    model.add(Dropout(0.25))\n",
    "    \n",
    "    model.add(Convolution2D(num_filters_2, filter_length, filter_length, \n",
    "                            W_regularizer = w_regularizer, b_regularizer = b_regularizer))\n",
    "    model.add(Activation('relu'))\n",
    "    \n",
    "    model.add(MaxPooling2D(pool_size=(num_pooling, num_pooling)))\n",
    "    model.add(Dropout(0.25))\n",
    "\n",
    "    model.add(Flatten())\n",
    "    model.add(Dense(128), \n",
    "              W_regularizer = w_regularizer, b_regularizer = b_regularizer)\n",
    "    model.add(Activation('relu'))\n",
    "    model.add(Dropout(0.5))\n",
    "    model.add(Dense(num_classes), \n",
    "              W_regularizer = w_regularizer, b_regularizer = b_regularizer)\n",
    "    model.add(Activation('softmax'))\n",
    "    \n",
    "    if weights_path:\n",
    "        print \"Loading weights from {}\".format(weights_path)\n",
    "        model.load_weights(weights_path)\n",
    "        \n",
    "\n",
    "    #model.summary()\n",
    "    #grapher.plot(model, 'nn_model.png')\n",
    "    \n",
    "    # TODO - Handle loading existing weights \n",
    "    \n",
    "    return model, LossHistory"
   ]
  },
  {
   "cell_type": "markdown",
   "metadata": {},
   "source": [
    "Determine which NN we are going to use, and whether to load weights or train ourselves"
   ]
  },
  {
   "cell_type": "code",
   "execution_count": null,
   "metadata": {
    "collapsed": false
   },
   "outputs": [],
   "source": [
    "keras_model, weights, train_model = 'custom', None, True\n",
    "#keras_model, weights, train_model = 'vgg16', 'model/vgg16_weights.h5', False\n",
    "loss_function='categorical_crossentropy'\n",
    "from keras.regularizers import l2\n",
    "w_regularizer = l2(0.01) # Default = None\n",
    "b_regularizer = l2(0.01) # Default = None\n",
    "num_classes = 10"
   ]
  },
  {
   "cell_type": "code",
   "execution_count": null,
   "metadata": {
    "collapsed": false
   },
   "outputs": [],
   "source": [
    "def graph_training_loss_history(losses):\n",
    "    plt.figure(figsize=(6, 3))\n",
    "    plt.plot(losses)\n",
    "    plt.ylabel('error')\n",
    "    plt.xlabel('batch')\n",
    "    plt.title('training error')\n",
    "    plt.show()"
   ]
  },
  {
   "cell_type": "code",
   "execution_count": null,
   "metadata": {
    "collapsed": false
   },
   "outputs": [],
   "source": [
    "from sklearn.metrics import log_loss\n",
    "def get_log_loss_score(model, X_valid, y_valid):\n",
    "    predictions_valid = model.predict(X_valid, batch_size=128, verbose=1)\n",
    "    score = log_loss(y_valid, predictions_valid)\n",
    "    return score"
   ]
  },
  {
   "cell_type": "code",
   "execution_count": null,
   "metadata": {
    "collapsed": false
   },
   "outputs": [],
   "source": [
    "#Configure the network\n",
    "def compile_model(learning_rate):\n",
    "    if keras_model == 'custom':\n",
    "        model, LossHistory = custom_keras_model(num_classes, weights, w_regularizer, b_regularizer)\n",
    "        sgd = SGD(lr=learning_rate, decay=0, momentum=0, nesterov=False)\n",
    "        #sgd = SGD(lr=0.1, decay=1e-6, momentum=0.9, nesterov=True)\n",
    "    elif keras_model == 'vgg16':\n",
    "        model, LossHistory = vgg16(num_classes, weights)\n",
    "        sgd = SGD(lr=0.1, decay=1e-6, momentum=0.9, nesterov=True)\n",
    "\n",
    "    # Now compile the model\n",
    "    model.compile(loss=loss_function, optimizer=sgd, metrics=['accuracy'])\n",
    "    return model, LossHistory"
   ]
  },
  {
   "cell_type": "code",
   "execution_count": 175,
   "metadata": {
    "collapsed": false,
    "scrolled": false
   },
   "outputs": [
    {
     "name": "stdout",
     "output_type": "stream",
     "text": [
      "____________________________________________________________________________________________________\n",
      "Layer (type)                     Output Shape          Param #     Connected to                     \n",
      "====================================================================================================\n",
      "convolution2d_49 (Convolution2D) (None, 8, 223, 223)   40          convolution2d_input_25[0][0]     \n",
      "____________________________________________________________________________________________________\n",
      "maxpooling2d_41 (MaxPooling2D)   (None, 8, 111, 111)   0           convolution2d_49[0][0]           \n",
      "____________________________________________________________________________________________________\n",
      "dropout_65 (Dropout)             (None, 8, 111, 111)   0           maxpooling2d_41[0][0]            \n",
      "____________________________________________________________________________________________________\n",
      "convolution2d_50 (Convolution2D) (None, 8, 110, 110)   264         dropout_65[0][0]                 \n",
      "____________________________________________________________________________________________________\n",
      "activation_73 (Activation)       (None, 8, 110, 110)   0           convolution2d_50[0][0]           \n",
      "____________________________________________________________________________________________________\n",
      "maxpooling2d_42 (MaxPooling2D)   (None, 8, 55, 55)     0           activation_73[0][0]              \n",
      "____________________________________________________________________________________________________\n",
      "dropout_66 (Dropout)             (None, 8, 55, 55)     0           maxpooling2d_42[0][0]            \n",
      "____________________________________________________________________________________________________\n",
      "flatten_25 (Flatten)             (None, 24200)         0           dropout_66[0][0]                 \n",
      "____________________________________________________________________________________________________\n",
      "dense_49 (Dense)                 (None, 128)           3097728     flatten_25[0][0]                 \n",
      "____________________________________________________________________________________________________\n",
      "activation_74 (Activation)       (None, 128)           0           dense_49[0][0]                   \n",
      "____________________________________________________________________________________________________\n",
      "dropout_67 (Dropout)             (None, 128)           0           activation_74[0][0]              \n",
      "____________________________________________________________________________________________________\n",
      "dense_50 (Dense)                 (None, 10)            1290        dropout_67[0][0]                 \n",
      "____________________________________________________________________________________________________\n",
      "activation_75 (Activation)       (None, 10)            0           dense_50[0][0]                   \n",
      "====================================================================================================\n",
      "Total params: 3099322\n",
      "____________________________________________________________________________________________________\n"
     ]
    },
    {
     "data": {
      "image/svg+xml": [
       "<svg height=\"994pt\" viewBox=\"0.00 0.00 236.68 994.00\" width=\"237pt\" xmlns=\"http://www.w3.org/2000/svg\" xmlns:xlink=\"http://www.w3.org/1999/xlink\">\n",
       "<g class=\"graph\" id=\"graph0\" transform=\"scale(1 1) rotate(0) translate(4 990)\">\n",
       "<title>G</title>\n",
       "<polygon fill=\"white\" points=\"-4,4 -4,-990 232.68,-990 232.68,4 -4,4\" stroke=\"none\"/>\n",
       "<!-- 4768964688 -->\n",
       "<g class=\"node\" id=\"node1\"><title>4768964688</title>\n",
       "<polygon fill=\"none\" points=\"0,-949.5 0,-985.5 228.68,-985.5 228.68,-949.5 0,-949.5\" stroke=\"black\"/>\n",
       "<text font-family=\"Times,serif\" font-size=\"14.00\" text-anchor=\"middle\" x=\"114.34\" y=\"-963.3\">convolution2d_input_25 (InputLayer)</text>\n",
       "</g>\n",
       "<!-- 4768962576 -->\n",
       "<g class=\"node\" id=\"node2\"><title>4768962576</title>\n",
       "<polygon fill=\"none\" points=\"5.42773,-876.5 5.42773,-912.5 223.252,-912.5 223.252,-876.5 5.42773,-876.5\" stroke=\"black\"/>\n",
       "<text font-family=\"Times,serif\" font-size=\"14.00\" text-anchor=\"middle\" x=\"114.34\" y=\"-890.3\">convolution2d_49 (Convolution2D)</text>\n",
       "</g>\n",
       "<!-- 4768964688&#45;&gt;4768962576 -->\n",
       "<g class=\"edge\" id=\"edge1\"><title>4768964688-&gt;4768962576</title>\n",
       "<path d=\"M114.34,-949.313C114.34,-941.289 114.34,-931.547 114.34,-922.569\" fill=\"none\" stroke=\"black\"/>\n",
       "<polygon fill=\"black\" points=\"117.84,-922.529 114.34,-912.529 110.84,-922.529 117.84,-922.529\" stroke=\"black\"/>\n",
       "</g>\n",
       "<!-- 4773138960 -->\n",
       "<g class=\"node\" id=\"node3\"><title>4773138960</title>\n",
       "<polygon fill=\"none\" points=\"5.81738,-803.5 5.81738,-839.5 222.862,-839.5 222.862,-803.5 5.81738,-803.5\" stroke=\"black\"/>\n",
       "<text font-family=\"Times,serif\" font-size=\"14.00\" text-anchor=\"middle\" x=\"114.34\" y=\"-817.3\">maxpooling2d_41 (MaxPooling2D)</text>\n",
       "</g>\n",
       "<!-- 4768962576&#45;&gt;4773138960 -->\n",
       "<g class=\"edge\" id=\"edge2\"><title>4768962576-&gt;4773138960</title>\n",
       "<path d=\"M114.34,-876.313C114.34,-868.289 114.34,-858.547 114.34,-849.569\" fill=\"none\" stroke=\"black\"/>\n",
       "<polygon fill=\"black\" points=\"117.84,-849.529 114.34,-839.529 110.84,-849.529 117.84,-849.529\" stroke=\"black\"/>\n",
       "</g>\n",
       "<!-- 4773139408 -->\n",
       "<g class=\"node\" id=\"node4\"><title>4773139408</title>\n",
       "<polygon fill=\"none\" points=\"44.3208,-730.5 44.3208,-766.5 184.359,-766.5 184.359,-730.5 44.3208,-730.5\" stroke=\"black\"/>\n",
       "<text font-family=\"Times,serif\" font-size=\"14.00\" text-anchor=\"middle\" x=\"114.34\" y=\"-744.3\">dropout_65 (Dropout)</text>\n",
       "</g>\n",
       "<!-- 4773138960&#45;&gt;4773139408 -->\n",
       "<g class=\"edge\" id=\"edge3\"><title>4773138960-&gt;4773139408</title>\n",
       "<path d=\"M114.34,-803.313C114.34,-795.289 114.34,-785.547 114.34,-776.569\" fill=\"none\" stroke=\"black\"/>\n",
       "<polygon fill=\"black\" points=\"117.84,-776.529 114.34,-766.529 110.84,-776.529 117.84,-776.529\" stroke=\"black\"/>\n",
       "</g>\n",
       "<!-- 4773140816 -->\n",
       "<g class=\"node\" id=\"node5\"><title>4773140816</title>\n",
       "<polygon fill=\"none\" points=\"5.42773,-657.5 5.42773,-693.5 223.252,-693.5 223.252,-657.5 5.42773,-657.5\" stroke=\"black\"/>\n",
       "<text font-family=\"Times,serif\" font-size=\"14.00\" text-anchor=\"middle\" x=\"114.34\" y=\"-671.3\">convolution2d_50 (Convolution2D)</text>\n",
       "</g>\n",
       "<!-- 4773139408&#45;&gt;4773140816 -->\n",
       "<g class=\"edge\" id=\"edge4\"><title>4773139408-&gt;4773140816</title>\n",
       "<path d=\"M114.34,-730.313C114.34,-722.289 114.34,-712.547 114.34,-703.569\" fill=\"none\" stroke=\"black\"/>\n",
       "<polygon fill=\"black\" points=\"117.84,-703.529 114.34,-693.529 110.84,-703.529 117.84,-703.529\" stroke=\"black\"/>\n",
       "</g>\n",
       "<!-- 4937670288 -->\n",
       "<g class=\"node\" id=\"node6\"><title>4937670288</title>\n",
       "<polygon fill=\"none\" points=\"32.2793,-584.5 32.2793,-620.5 196.4,-620.5 196.4,-584.5 32.2793,-584.5\" stroke=\"black\"/>\n",
       "<text font-family=\"Times,serif\" font-size=\"14.00\" text-anchor=\"middle\" x=\"114.34\" y=\"-598.3\">activation_73 (Activation)</text>\n",
       "</g>\n",
       "<!-- 4773140816&#45;&gt;4937670288 -->\n",
       "<g class=\"edge\" id=\"edge5\"><title>4773140816-&gt;4937670288</title>\n",
       "<path d=\"M114.34,-657.313C114.34,-649.289 114.34,-639.547 114.34,-630.569\" fill=\"none\" stroke=\"black\"/>\n",
       "<polygon fill=\"black\" points=\"117.84,-630.529 114.34,-620.529 110.84,-630.529 117.84,-630.529\" stroke=\"black\"/>\n",
       "</g>\n",
       "<!-- 4776123344 -->\n",
       "<g class=\"node\" id=\"node7\"><title>4776123344</title>\n",
       "<polygon fill=\"none\" points=\"5.81738,-511.5 5.81738,-547.5 222.862,-547.5 222.862,-511.5 5.81738,-511.5\" stroke=\"black\"/>\n",
       "<text font-family=\"Times,serif\" font-size=\"14.00\" text-anchor=\"middle\" x=\"114.34\" y=\"-525.3\">maxpooling2d_42 (MaxPooling2D)</text>\n",
       "</g>\n",
       "<!-- 4937670288&#45;&gt;4776123344 -->\n",
       "<g class=\"edge\" id=\"edge6\"><title>4937670288-&gt;4776123344</title>\n",
       "<path d=\"M114.34,-584.313C114.34,-576.289 114.34,-566.547 114.34,-557.569\" fill=\"none\" stroke=\"black\"/>\n",
       "<polygon fill=\"black\" points=\"117.84,-557.529 114.34,-547.529 110.84,-557.529 117.84,-557.529\" stroke=\"black\"/>\n",
       "</g>\n",
       "<!-- 4937669840 -->\n",
       "<g class=\"node\" id=\"node8\"><title>4937669840</title>\n",
       "<polygon fill=\"none\" points=\"44.3208,-438.5 44.3208,-474.5 184.359,-474.5 184.359,-438.5 44.3208,-438.5\" stroke=\"black\"/>\n",
       "<text font-family=\"Times,serif\" font-size=\"14.00\" text-anchor=\"middle\" x=\"114.34\" y=\"-452.3\">dropout_66 (Dropout)</text>\n",
       "</g>\n",
       "<!-- 4776123344&#45;&gt;4937669840 -->\n",
       "<g class=\"edge\" id=\"edge7\"><title>4776123344-&gt;4937669840</title>\n",
       "<path d=\"M114.34,-511.313C114.34,-503.289 114.34,-493.547 114.34,-484.569\" fill=\"none\" stroke=\"black\"/>\n",
       "<polygon fill=\"black\" points=\"117.84,-484.529 114.34,-474.529 110.84,-484.529 117.84,-484.529\" stroke=\"black\"/>\n",
       "</g>\n",
       "<!-- 4776106704 -->\n",
       "<g class=\"node\" id=\"node9\"><title>4776106704</title>\n",
       "<polygon fill=\"none\" points=\"52.4897,-365.5 52.4897,-401.5 176.19,-401.5 176.19,-365.5 52.4897,-365.5\" stroke=\"black\"/>\n",
       "<text font-family=\"Times,serif\" font-size=\"14.00\" text-anchor=\"middle\" x=\"114.34\" y=\"-379.3\">flatten_25 (Flatten)</text>\n",
       "</g>\n",
       "<!-- 4937669840&#45;&gt;4776106704 -->\n",
       "<g class=\"edge\" id=\"edge8\"><title>4937669840-&gt;4776106704</title>\n",
       "<path d=\"M114.34,-438.313C114.34,-430.289 114.34,-420.547 114.34,-411.569\" fill=\"none\" stroke=\"black\"/>\n",
       "<polygon fill=\"black\" points=\"117.84,-411.529 114.34,-401.529 110.84,-411.529 117.84,-411.529\" stroke=\"black\"/>\n",
       "</g>\n",
       "<!-- 4776276880 -->\n",
       "<g class=\"node\" id=\"node10\"><title>4776276880</title>\n",
       "<polygon fill=\"none\" points=\"55.9966,-292.5 55.9966,-328.5 172.683,-328.5 172.683,-292.5 55.9966,-292.5\" stroke=\"black\"/>\n",
       "<text font-family=\"Times,serif\" font-size=\"14.00\" text-anchor=\"middle\" x=\"114.34\" y=\"-306.3\">dense_49 (Dense)</text>\n",
       "</g>\n",
       "<!-- 4776106704&#45;&gt;4776276880 -->\n",
       "<g class=\"edge\" id=\"edge9\"><title>4776106704-&gt;4776276880</title>\n",
       "<path d=\"M114.34,-365.313C114.34,-357.289 114.34,-347.547 114.34,-338.569\" fill=\"none\" stroke=\"black\"/>\n",
       "<polygon fill=\"black\" points=\"117.84,-338.529 114.34,-328.529 110.84,-338.529 117.84,-338.529\" stroke=\"black\"/>\n",
       "</g>\n",
       "<!-- 4776278672 -->\n",
       "<g class=\"node\" id=\"node11\"><title>4776278672</title>\n",
       "<polygon fill=\"none\" points=\"32.2793,-219.5 32.2793,-255.5 196.4,-255.5 196.4,-219.5 32.2793,-219.5\" stroke=\"black\"/>\n",
       "<text font-family=\"Times,serif\" font-size=\"14.00\" text-anchor=\"middle\" x=\"114.34\" y=\"-233.3\">activation_74 (Activation)</text>\n",
       "</g>\n",
       "<!-- 4776276880&#45;&gt;4776278672 -->\n",
       "<g class=\"edge\" id=\"edge10\"><title>4776276880-&gt;4776278672</title>\n",
       "<path d=\"M114.34,-292.313C114.34,-284.289 114.34,-274.547 114.34,-265.569\" fill=\"none\" stroke=\"black\"/>\n",
       "<polygon fill=\"black\" points=\"117.84,-265.529 114.34,-255.529 110.84,-265.529 117.84,-265.529\" stroke=\"black\"/>\n",
       "</g>\n",
       "<!-- 4805887824 -->\n",
       "<g class=\"node\" id=\"node12\"><title>4805887824</title>\n",
       "<polygon fill=\"none\" points=\"44.3208,-146.5 44.3208,-182.5 184.359,-182.5 184.359,-146.5 44.3208,-146.5\" stroke=\"black\"/>\n",
       "<text font-family=\"Times,serif\" font-size=\"14.00\" text-anchor=\"middle\" x=\"114.34\" y=\"-160.3\">dropout_67 (Dropout)</text>\n",
       "</g>\n",
       "<!-- 4776278672&#45;&gt;4805887824 -->\n",
       "<g class=\"edge\" id=\"edge11\"><title>4776278672-&gt;4805887824</title>\n",
       "<path d=\"M114.34,-219.313C114.34,-211.289 114.34,-201.547 114.34,-192.569\" fill=\"none\" stroke=\"black\"/>\n",
       "<polygon fill=\"black\" points=\"117.84,-192.529 114.34,-182.529 110.84,-192.529 117.84,-192.529\" stroke=\"black\"/>\n",
       "</g>\n",
       "<!-- 4805997136 -->\n",
       "<g class=\"node\" id=\"node13\"><title>4805997136</title>\n",
       "<polygon fill=\"none\" points=\"55.9966,-73.5 55.9966,-109.5 172.683,-109.5 172.683,-73.5 55.9966,-73.5\" stroke=\"black\"/>\n",
       "<text font-family=\"Times,serif\" font-size=\"14.00\" text-anchor=\"middle\" x=\"114.34\" y=\"-87.3\">dense_50 (Dense)</text>\n",
       "</g>\n",
       "<!-- 4805887824&#45;&gt;4805997136 -->\n",
       "<g class=\"edge\" id=\"edge12\"><title>4805887824-&gt;4805997136</title>\n",
       "<path d=\"M114.34,-146.313C114.34,-138.289 114.34,-128.547 114.34,-119.569\" fill=\"none\" stroke=\"black\"/>\n",
       "<polygon fill=\"black\" points=\"117.84,-119.529 114.34,-109.529 110.84,-119.529 117.84,-119.529\" stroke=\"black\"/>\n",
       "</g>\n",
       "<!-- 4805999312 -->\n",
       "<g class=\"node\" id=\"node14\"><title>4805999312</title>\n",
       "<polygon fill=\"none\" points=\"32.2793,-0.5 32.2793,-36.5 196.4,-36.5 196.4,-0.5 32.2793,-0.5\" stroke=\"black\"/>\n",
       "<text font-family=\"Times,serif\" font-size=\"14.00\" text-anchor=\"middle\" x=\"114.34\" y=\"-14.3\">activation_75 (Activation)</text>\n",
       "</g>\n",
       "<!-- 4805997136&#45;&gt;4805999312 -->\n",
       "<g class=\"edge\" id=\"edge13\"><title>4805997136-&gt;4805999312</title>\n",
       "<path d=\"M114.34,-73.3129C114.34,-65.2895 114.34,-55.5475 114.34,-46.5691\" fill=\"none\" stroke=\"black\"/>\n",
       "<polygon fill=\"black\" points=\"117.84,-46.5288 114.34,-36.5288 110.84,-46.5289 117.84,-46.5288\" stroke=\"black\"/>\n",
       "</g>\n",
       "</g>\n",
       "</svg>"
      ],
      "text/plain": [
       "<IPython.core.display.SVG object>"
      ]
     },
     "execution_count": 175,
     "metadata": {},
     "output_type": "execute_result"
    }
   ],
   "source": [
    "# Compile the model so we can get a view of what it looks like\n",
    "# Note we'll do this in each training iteration later, but this'll keep the output tidy!\n",
    "from IPython.display import SVG\n",
    "from keras.utils.visualize_util import model_to_dot\n",
    "\n",
    "model, LossHistory = compile_model(learning_rate[i])\n",
    "model.summary()\n",
    "SVG(model_to_dot(model).create(prog='dot', format='svg'))\n"
   ]
  },
  {
   "cell_type": "markdown",
   "metadata": {},
   "source": [
    "## Training \n",
    "Train and use validation data to see if we're training effectively!"
   ]
  },
  {
   "cell_type": "code",
   "execution_count": null,
   "metadata": {
    "collapsed": false,
    "scrolled": false
   },
   "outputs": [
    {
     "name": "stdout",
     "output_type": "stream",
     "text": [
      "\n",
      "**********************************\n",
      "Starting training iteration 1 with learning rate 0.03\n",
      "\n",
      "Train on 19060 samples, validate on 3364 samples\n",
      "Epoch 1/5\n",
      "19060/19060 [==============================] - 320s - loss: 1.8940 - acc: 0.3147 - val_loss: 2.4409 - val_acc: 0.1703\n",
      "Epoch 2/5\n",
      "19060/19060 [==============================] - 332s - loss: 0.9501 - acc: 0.6798 - val_loss: 3.3973 - val_acc: 0.2179\n",
      "Epoch 3/5\n",
      " 3424/19060 [====>.........................] - ETA: 255s - loss: 0.5877 - acc: 0.8040"
     ]
    }
   ],
   "source": [
    "batch_size = 32\n",
    "num_epochs = 5 #10\n",
    "learning_rate = [0.003, 0.01, 0.03, 0.1, 0.3]\n",
    "\n",
    "for i in range(0,1):   # range(0,4) if doing multiple learning rates\n",
    "    #learningrate = learning_rate[i]\n",
    "    learningrate = 0.03\n",
    "    print \"\\n**********************************\"\n",
    "    print \"Starting training iteration {} with learning rate {}\\n\".format(i+1, learningrate)\n",
    "    model, LossHistory = compile_model(learningrate)\n",
    "    history = LossHistory()\n",
    "    #model.fit(X_train, y_train, batch_size=batch_size, nb_epoch=num_epochs,\n",
    "    #          verbose=1, validation_data=(X_valid, y_valid), shuffle=True,\n",
    "    #          callbacks=[history]) \n",
    "    model.fit(X_train, y_train,            \n",
    "              batch_size=batch_size, \n",
    "              nb_epoch=num_epochs,\n",
    "              validation_split = 0.15,\n",
    "              verbose=1,\n",
    "              shuffle=True,\n",
    "              callbacks=[history])\n",
    "    graph_training_loss_history(history.losses)\n",
    "    #print('Score log_loss: ', get_log_loss_score(model, X_valid, y_valid))\n",
    "    "
   ]
  },
  {
   "cell_type": "code",
   "execution_count": null,
   "metadata": {
    "collapsed": true
   },
   "outputs": [],
   "source": []
  },
  {
   "cell_type": "code",
   "execution_count": null,
   "metadata": {
    "collapsed": true
   },
   "outputs": [],
   "source": []
  },
  {
   "cell_type": "code",
   "execution_count": 147,
   "metadata": {
    "collapsed": false,
    "scrolled": false
   },
   "outputs": [
    {
     "name": "stdout",
     "output_type": "stream",
     "text": [
      "{'W_constraint': None, 'b_constraint': None, 'name': 'convolution2d_39', 'activity_regularizer': None, 'trainable': True, 'dim_ordering': 'th', 'nb_col': 2, 'subsample': (1, 1), 'init': 'glorot_uniform', 'bias': True, 'nb_filter': 8, 'activation': 'relu', 'input_dtype': 'float32', 'batch_input_shape': (None, 1, 224, 224), 'W_regularizer': None, 'nb_row': 2, 'b_regularizer': None, 'border_mode': 'valid'}\n",
      "[array([[[[-0.37403458, -0.10684296],\n",
      "         [-0.10272153,  0.18744363]]],\n",
      "\n",
      "\n",
      "       [[[ 0.16247705, -0.10976431],\n",
      "         [-0.41822299, -0.02191874]]],\n",
      "\n",
      "\n",
      "       [[[-0.63670826, -0.41647342],\n",
      "         [ 0.14718248,  0.11218014]]],\n",
      "\n",
      "\n",
      "       [[[-1.57755876,  0.66972607],\n",
      "         [ 0.74089801,  0.33608177]]],\n",
      "\n",
      "\n",
      "       [[[-0.25553626, -0.08346554],\n",
      "         [-0.133966  ,  0.15014486]]],\n",
      "\n",
      "\n",
      "       [[[-1.86595273, -0.47573984],\n",
      "         [ 0.86131597,  1.27767408]]],\n",
      "\n",
      "\n",
      "       [[[ 0.40819722, -1.1394515 ],\n",
      "         [ 0.36821371, -1.56937647]]],\n",
      "\n",
      "\n",
      "       [[[-0.53998041, -0.09346687],\n",
      "         [ 0.07320158, -0.04124619]]]], dtype=float32), array([-0.0750593 , -0.07702388, -0.23510709,  0.11896118, -0.10231255,\n",
      "        0.29675394, -1.0804559 , -0.32457554], dtype=float32)]\n",
      "{'W_constraint': None, 'b_constraint': None, 'name': 'convolution2d_40', 'activity_regularizer': None, 'trainable': True, 'dim_ordering': 'th', 'nb_col': 2, 'subsample': (1, 1), 'init': 'glorot_uniform', 'bias': True, 'nb_filter': 8, 'b_regularizer': None, 'W_regularizer': None, 'nb_row': 2, 'activation': 'linear', 'border_mode': 'valid'}\n",
      "[array([[[[-0.10163388,  0.06058051],\n",
      "         [-0.12089331,  0.03581485]],\n",
      "\n",
      "        [[ 0.17058106,  0.24515596],\n",
      "         [ 0.31873214,  0.29783139]],\n",
      "\n",
      "        [[ 0.43154994,  0.00702549],\n",
      "         [-0.07898945, -0.0263107 ]],\n",
      "\n",
      "        [[ 0.37413928,  1.11641288],\n",
      "         [-0.40055794, -0.87210506]],\n",
      "\n",
      "        [[ 0.29959077, -0.00720894],\n",
      "         [ 0.04338097, -0.08106078]],\n",
      "\n",
      "        [[ 1.14741004,  0.29194865],\n",
      "         [-0.22875336, -0.67154205]],\n",
      "\n",
      "        [[ 0.40699905, -0.31935665],\n",
      "         [ 0.4230037 , -0.12055779]],\n",
      "\n",
      "        [[-0.09125622,  0.06281655],\n",
      "         [-0.25776431,  0.19438808]]],\n",
      "\n",
      "\n",
      "       [[[-0.28779632,  0.16588342],\n",
      "         [-0.25948671,  0.19656698]],\n",
      "\n",
      "        [[-0.15987308, -0.13974297],\n",
      "         [ 0.18415208,  0.24043119]],\n",
      "\n",
      "        [[ 0.18808441, -0.23588872],\n",
      "         [-0.08427972, -0.22056019]],\n",
      "\n",
      "        [[ 0.33345923, -0.29355124],\n",
      "         [-0.26413265, -0.01405168]],\n",
      "\n",
      "        [[ 0.09519002, -0.01534415],\n",
      "         [-0.08269611, -0.13610509]],\n",
      "\n",
      "        [[ 0.20148873, -0.29637015],\n",
      "         [-0.10085803,  0.42875335]],\n",
      "\n",
      "        [[ 0.17282356, -0.27634144],\n",
      "         [ 0.22190249, -0.15827516]],\n",
      "\n",
      "        [[ 0.22978197, -0.03258684],\n",
      "         [ 0.08201484,  0.20181769]]],\n",
      "\n",
      "\n",
      "       [[[-0.06040468, -0.06555542],\n",
      "         [ 0.01965854, -0.13285694]],\n",
      "\n",
      "        [[-0.15598325, -0.07988418],\n",
      "         [ 0.26217946,  0.21900269]],\n",
      "\n",
      "        [[-0.02204096, -0.28827682],\n",
      "         [ 0.18477836, -0.10857877]],\n",
      "\n",
      "        [[-0.12018597,  0.42196125],\n",
      "         [ 0.1151002 ,  0.18286169]],\n",
      "\n",
      "        [[-0.17293665, -0.25901952],\n",
      "         [ 0.01429251,  0.06051934]],\n",
      "\n",
      "        [[ 0.259624  ,  0.37678331],\n",
      "         [ 0.60462028,  0.071872  ]],\n",
      "\n",
      "        [[ 0.11640461,  0.07475359],\n",
      "         [ 0.08504432, -0.20248841]],\n",
      "\n",
      "        [[ 0.01161575, -0.07956256],\n",
      "         [-0.12947944, -0.27177683]]],\n",
      "\n",
      "\n",
      "       [[[-0.14816901, -0.23205292],\n",
      "         [-0.2848666 ,  0.24036157]],\n",
      "\n",
      "        [[-0.19415712,  0.13983156],\n",
      "         [ 0.30671769, -0.20783697]],\n",
      "\n",
      "        [[ 0.05707351, -0.17958218],\n",
      "         [ 0.15707445,  0.13224909]],\n",
      "\n",
      "        [[-0.06000473, -0.18657914],\n",
      "         [ 0.10286787, -0.05602025]],\n",
      "\n",
      "        [[ 0.23759076,  0.11764889],\n",
      "         [ 0.28117096,  0.15546969]],\n",
      "\n",
      "        [[-0.18594578,  0.12508181],\n",
      "         [-0.27112859, -0.09050542]],\n",
      "\n",
      "        [[ 0.0289963 ,  0.39263654],\n",
      "         [-0.26946989,  0.31225565]],\n",
      "\n",
      "        [[-0.1968352 ,  0.0600846 ],\n",
      "         [-0.19696131, -0.09056767]]],\n",
      "\n",
      "\n",
      "       [[[ 0.0313283 , -0.24477988],\n",
      "         [-0.00172342, -0.2581597 ]],\n",
      "\n",
      "        [[-0.2535719 , -0.12240694],\n",
      "         [-0.21453606, -0.23347424]],\n",
      "\n",
      "        [[-0.24472678,  0.1089379 ],\n",
      "         [-0.13388938,  0.06574556]],\n",
      "\n",
      "        [[-0.15794006, -0.15245508],\n",
      "         [-0.04768443,  0.03200828]],\n",
      "\n",
      "        [[-0.21851172, -0.22011288],\n",
      "         [ 0.11713619, -0.06369239]],\n",
      "\n",
      "        [[ 0.14348029, -0.21105462],\n",
      "         [-0.07784155, -0.10685714]],\n",
      "\n",
      "        [[ 0.64561957,  0.12606034],\n",
      "         [ 0.28032792, -0.3429029 ]],\n",
      "\n",
      "        [[-0.08380259,  0.19346443],\n",
      "         [-0.29891536,  0.17751995]]],\n",
      "\n",
      "\n",
      "       [[[-0.0908023 ,  0.02297897],\n",
      "         [ 0.03303248,  0.18979917]],\n",
      "\n",
      "        [[-0.0516362 , -0.27769393],\n",
      "         [-0.20593053,  0.13138078]],\n",
      "\n",
      "        [[ 0.28765643, -0.28828293],\n",
      "         [ 0.29459757,  0.22110103]],\n",
      "\n",
      "        [[ 0.21887405, -0.43954766],\n",
      "         [ 0.32942131, -0.46844476]],\n",
      "\n",
      "        [[-0.06828358, -0.06563539],\n",
      "         [ 0.17395699, -0.16296406]],\n",
      "\n",
      "        [[-0.21872698,  0.20844424],\n",
      "         [-0.29447159, -0.05728868]],\n",
      "\n",
      "        [[-0.1096103 ,  0.8001194 ],\n",
      "         [-0.19984302,  0.18150589]],\n",
      "\n",
      "        [[-0.23190413,  0.01627573],\n",
      "         [ 0.0169317 ,  0.01755052]]],\n",
      "\n",
      "\n",
      "       [[[ 0.20331559, -0.19735663],\n",
      "         [ 0.03508548,  0.14538868]],\n",
      "\n",
      "        [[ 0.18680237,  0.10333341],\n",
      "         [-0.20606379, -0.0091583 ]],\n",
      "\n",
      "        [[ 0.26122913, -0.1452067 ],\n",
      "         [ 0.10568797,  0.18686914]],\n",
      "\n",
      "        [[-0.17762387,  0.23588774],\n",
      "         [-0.08906911,  0.17496316]],\n",
      "\n",
      "        [[-0.11474197, -0.05981177],\n",
      "         [-0.23227671, -0.03252814]],\n",
      "\n",
      "        [[-0.03330397,  0.33881322],\n",
      "         [ 0.37436795, -0.25890297]],\n",
      "\n",
      "        [[-0.26047522, -0.19061889],\n",
      "         [ 0.15349831,  0.31801066]],\n",
      "\n",
      "        [[ 0.17582648,  0.09996028],\n",
      "         [-0.29001433, -0.2120087 ]]],\n",
      "\n",
      "\n",
      "       [[[-0.26090428, -0.00851696],\n",
      "         [-0.21358365, -0.05549382]],\n",
      "\n",
      "        [[ 0.03227053,  0.12432963],\n",
      "         [-0.24840821, -0.07338315]],\n",
      "\n",
      "        [[-0.04337523,  0.1057045 ],\n",
      "         [-0.10692374, -0.30249131]],\n",
      "\n",
      "        [[ 0.43199185, -0.37726244],\n",
      "         [-0.19498858, -0.41396073]],\n",
      "\n",
      "        [[-0.07203756, -0.24174117],\n",
      "         [ 0.02079695,  0.24462977]],\n",
      "\n",
      "        [[ 0.12109409,  0.06865524],\n",
      "         [ 0.18148701, -0.28545853]],\n",
      "\n",
      "        [[ 0.22519729,  0.48239613],\n",
      "         [ 0.22994231, -0.23502874]],\n",
      "\n",
      "        [[ 0.18036738, -0.29410189],\n",
      "         [-0.18133596, -0.12026631]]]], dtype=float32), array([-0.45506853, -0.36977294, -0.77636576, -0.64772642, -0.36657184,\n",
      "       -0.49593604, -0.34841177, -0.80391055], dtype=float32)]\n",
      "{'activation': 'relu', 'trainable': True, 'name': 'activation_58'}\n",
      "[]\n",
      "{'name': 'maxpooling2d_32', 'trainable': True, 'dim_ordering': 'th', 'pool_size': (2, 2), 'strides': (2, 2), 'border_mode': 'valid'}\n",
      "[]\n",
      "{'p': 0.25, 'trainable': True, 'name': 'dropout_51'}\n",
      "[]\n",
      "{'trainable': True, 'name': 'flatten_20'}\n",
      "[]\n",
      "{'W_constraint': None, 'b_constraint': None, 'name': 'dense_39', 'activity_regularizer': None, 'trainable': True, 'init': 'glorot_uniform', 'bias': True, 'activation': 'linear', 'input_dim': None, 'b_regularizer': None, 'W_regularizer': None, 'output_dim': 128}\n",
      "[array([[ -9.64579172e-04,  -3.82315367e-03,   4.20889701e-05, ...,\n",
      "         -9.00730083e-04,  -8.24145623e-04,   1.70700683e-03],\n",
      "       [ -1.80648193e-02,  -1.77230057e-03,   1.29007325e-02, ...,\n",
      "         -1.73454862e-02,   2.52635889e-02,  -3.20834713e-03],\n",
      "       [  6.44147396e-03,  -9.47212521e-03,   5.70763322e-03, ...,\n",
      "          6.07746479e-04,   3.32443882e-03,   4.11033572e-04],\n",
      "       ..., \n",
      "       [ -2.56618136e-04,   7.24576786e-03,   5.98271517e-03, ...,\n",
      "         -2.54161074e-03,   5.87602938e-03,  -2.98371539e-03],\n",
      "       [ -5.03639225e-03,   8.19269684e-04,  -6.46162126e-03, ...,\n",
      "         -6.32631266e-03,  -7.28439866e-03,   5.75511367e-04],\n",
      "       [  1.90431238e-04,  -7.44509604e-03,   1.51885906e-03, ...,\n",
      "         -2.32364726e-03,   3.98819055e-03,   6.88500004e-03]], dtype=float32), array([  2.87997779e-02,  -2.85318634e-03,   9.02029723e-02,\n",
      "        -1.71245541e-02,   6.38446510e-02,   7.79634565e-02,\n",
      "         2.31282618e-02,   9.11298841e-02,   1.57058351e-02,\n",
      "         3.60905640e-02,   1.06128402e-01,   3.41799073e-02,\n",
      "        -1.29383411e-02,   1.12245493e-01,   4.43599783e-02,\n",
      "         3.28299329e-02,   3.80932018e-02,   4.87315468e-03,\n",
      "         1.68243088e-02,   4.48438302e-02,   5.87996677e-04,\n",
      "         2.16239467e-02,   5.63957654e-02,  -2.86273425e-03,\n",
      "         1.38128707e-02,   2.03386527e-02,   1.82514600e-02,\n",
      "         1.01932593e-01,   5.66894598e-02,   5.81015162e-02,\n",
      "         3.82680930e-02,  -1.03940191e-02,   2.40130760e-02,\n",
      "         4.82357964e-02,   4.68413755e-02,  -1.92388855e-02,\n",
      "        -1.89347509e-02,   2.61007901e-02,   2.43844353e-02,\n",
      "         1.40455589e-02,   4.46948148e-02,   4.54314351e-02,\n",
      "         1.55105172e-02,   3.59019153e-02,   4.05613892e-02,\n",
      "        -2.09960807e-02,   1.69093115e-03,   8.49051178e-02,\n",
      "        -1.95013452e-02,   1.05261460e-01,  -2.96391803e-03,\n",
      "        -3.15875746e-02,   2.03656424e-02,   5.21938317e-02,\n",
      "         7.33432770e-02,   6.54832795e-02,   1.46560194e-02,\n",
      "        -1.02766240e-02,   1.20195337e-01,   8.55231434e-02,\n",
      "         2.17034705e-02,   7.01039806e-02,   2.83427164e-02,\n",
      "         9.66531932e-02,   6.35947436e-02,  -2.23802850e-02,\n",
      "         7.40416124e-02,  -4.64929966e-03,   4.17434201e-02,\n",
      "         2.72241086e-02,  -1.42018832e-02,   5.11412770e-02,\n",
      "         1.45330494e-02,  -5.54835843e-03,   4.25350852e-02,\n",
      "        -5.97836217e-03,   4.67069447e-02,   6.88850135e-02,\n",
      "         6.43637478e-02,   1.41108697e-02,   3.62433121e-02,\n",
      "         6.45947009e-02,   6.44028485e-02,   4.28409241e-02,\n",
      "         7.62809813e-02,   1.02851346e-01,  -1.75329484e-02,\n",
      "        -9.65778995e-03,   4.30369265e-02,  -4.15612012e-05,\n",
      "         2.31216997e-02,   8.91032349e-03,   1.50895901e-02,\n",
      "        -3.14275920e-02,  -8.27303622e-03,   4.62527275e-02,\n",
      "        -1.52451163e-02,   5.47339655e-02,   1.41515341e-02,\n",
      "         7.81375766e-02,   7.35875918e-03,   1.11813415e-02,\n",
      "         4.43400480e-02,  -8.77748523e-03,   4.02869284e-02,\n",
      "         2.54526315e-03,   1.66106019e-02,   3.18418583e-03,\n",
      "         3.29353251e-02,   6.60096249e-03,  -4.09352034e-03,\n",
      "         7.07923481e-03,   4.61429730e-02,   9.04122666e-02,\n",
      "         8.57287049e-02,   2.24916935e-02,   1.32562043e-02,\n",
      "         2.19631847e-02,   3.53797129e-03,   5.67705557e-02,\n",
      "         1.50426822e-02,   2.59750970e-02,   5.51382229e-02,\n",
      "        -1.86894536e-02,   7.77946264e-02,   3.51824164e-02,\n",
      "         2.56970264e-02,   1.67752672e-02], dtype=float32)]\n",
      "{'activation': 'relu', 'trainable': True, 'name': 'activation_59'}\n",
      "[]\n",
      "{'p': 0.5, 'trainable': True, 'name': 'dropout_52'}\n",
      "[]\n",
      "{'W_constraint': None, 'b_constraint': None, 'name': 'dense_40', 'activity_regularizer': None, 'trainable': True, 'init': 'glorot_uniform', 'bias': True, 'activation': 'linear', 'input_dim': None, 'b_regularizer': None, 'W_regularizer': None, 'output_dim': 10}\n",
      "[array([[-0.25231659, -0.16787152, -0.18125299, ...,  0.17099868,\n",
      "        -0.13460903, -0.12547415],\n",
      "       [-0.20123576,  0.1355564 , -0.25723583, ...,  0.06845993,\n",
      "         0.24117914, -0.02631623],\n",
      "       [ 0.15014394, -0.30619222, -0.14208087, ..., -0.22462179,\n",
      "         0.10135755,  0.09255051],\n",
      "       ..., \n",
      "       [-0.30982548, -0.18327397, -0.2431926 , ...,  0.19081411,\n",
      "        -0.14691129, -0.17873158],\n",
      "       [ 0.29057205,  0.15028232, -0.199349  , ..., -0.04425055,\n",
      "        -0.18444179, -0.2613509 ],\n",
      "       [-0.2851676 , -0.19200668,  0.17114604, ...,  0.2770308 ,\n",
      "        -0.09856653,  0.23303385]], dtype=float32), array([ 0.23123051, -0.10856841,  0.0395295 , -0.21434788, -0.14808984,\n",
      "        0.10719478,  0.0380117 , -0.03413855, -0.043399  ,  0.13257805], dtype=float32)]\n",
      "{'activation': 'softmax', 'trainable': True, 'name': 'activation_60'}\n",
      "[]\n"
     ]
    }
   ],
   "source": [
    "for layer in model.layers:\n",
    "    print layer.get_config()\n",
    "    print layer.get_weights()\n"
   ]
  },
  {
   "cell_type": "code",
   "execution_count": 148,
   "metadata": {
    "collapsed": true
   },
   "outputs": [],
   "source": [
    "model.save_weights('./model/saved_weights_converged.h5')"
   ]
  },
  {
   "cell_type": "markdown",
   "metadata": {},
   "source": [
    "###Visualise what the CNN has learnt\n",
    "Inspired by https://github.com/fchollet/keras/blob/master/examples/conv_filter_visualization.py and https://blog.keras.io/how-convolutional-neural-networks-see-the-world.html"
   ]
  },
  {
   "cell_type": "code",
   "execution_count": 149,
   "metadata": {
    "collapsed": false
   },
   "outputs": [
    {
     "ename": "KeyError",
     "evalue": "'convolution2d_39 '",
     "output_type": "error",
     "traceback": [
      "\u001b[0;31m---------------------------------------------------------------------------\u001b[0m",
      "\u001b[0;31mKeyError\u001b[0m                                  Traceback (most recent call last)",
      "\u001b[0;32m<ipython-input-149-f3c6f9e3b7eb>\u001b[0m in \u001b[0;36m<module>\u001b[0;34m()\u001b[0m\n\u001b[1;32m      3\u001b[0m \u001b[0mlayer_name\u001b[0m \u001b[0;34m=\u001b[0m \u001b[0;34m'convolution2d_39 '\u001b[0m\u001b[0;34m\u001b[0m\u001b[0m\n\u001b[1;32m      4\u001b[0m \u001b[0mlayer_dict\u001b[0m \u001b[0;34m=\u001b[0m \u001b[0mdict\u001b[0m\u001b[0;34m(\u001b[0m\u001b[0;34m[\u001b[0m\u001b[0;34m(\u001b[0m\u001b[0mlayer\u001b[0m\u001b[0;34m.\u001b[0m\u001b[0mname\u001b[0m\u001b[0;34m,\u001b[0m \u001b[0mlayer\u001b[0m\u001b[0;34m)\u001b[0m \u001b[0;32mfor\u001b[0m \u001b[0mlayer\u001b[0m \u001b[0;32min\u001b[0m \u001b[0mmodel\u001b[0m\u001b[0;34m.\u001b[0m\u001b[0mlayers\u001b[0m\u001b[0;34m[\u001b[0m\u001b[0;36m1\u001b[0m\u001b[0;34m:\u001b[0m\u001b[0;34m]\u001b[0m\u001b[0;34m]\u001b[0m\u001b[0;34m)\u001b[0m\u001b[0;34m\u001b[0m\u001b[0m\n\u001b[0;32m----> 5\u001b[0;31m \u001b[0mlayer_output\u001b[0m \u001b[0;34m=\u001b[0m \u001b[0mlayer_dict\u001b[0m\u001b[0;34m[\u001b[0m\u001b[0mlayer_name\u001b[0m\u001b[0;34m]\u001b[0m\u001b[0;34m.\u001b[0m\u001b[0moutput\u001b[0m\u001b[0;34m\u001b[0m\u001b[0m\n\u001b[0m\u001b[1;32m      6\u001b[0m \u001b[0;34m\u001b[0m\u001b[0m\n\u001b[1;32m      7\u001b[0m \u001b[0;31m# Number of filters\u001b[0m\u001b[0;34m\u001b[0m\u001b[0;34m\u001b[0m\u001b[0m\n",
      "\u001b[0;31mKeyError\u001b[0m: 'convolution2d_39 '"
     ]
    }
   ],
   "source": [
    "# the name of the layer we want to visualize\n",
    "# (see model definition at keras/applications/vgg16.py)\n",
    "layer_name = 'convolution2d_39 '\n",
    "layer_dict = dict([(layer.name, layer) for layer in model.layers[1:]])\n",
    "layer_output = layer_dict[layer_name].output\n",
    "\n",
    "# Number of filters\n",
    "n = 8\n",
    "\n",
    "# the filters that have the highest loss are assumed to be better-looking.\n",
    "# we will only keep the top 64 filters.\n",
    "kept_filters.sort(key=lambda x: x[1], reverse=True)\n",
    "kept_filters = kept_filters[:n * n]\n",
    "\n",
    "# build a black picture with enough space for\n",
    "# our 8 x 8 filters of size 128 x 128, with a 5px margin in between\n",
    "margin = 5\n",
    "width = n * img_width + (n - 1) * margin\n",
    "height = n * img_height + (n - 1) * margin\n",
    "stitched_filters = np.zeros((width, height, 3))\n",
    "\n",
    "# fill the picture with our saved filters\n",
    "for i in range(n):\n",
    "    for j in range(n):\n",
    "        img, loss = kept_filters[i * n + j]\n",
    "        stitched_filters[(img_width + margin) * i: (img_width + margin) * i + img_width,\n",
    "                         (img_height + margin) * j: (img_height + margin) * j + img_height, :] = img\n",
    "\n",
    "# save the result to disk\n",
    "imsave('stitched_filters_%dx%d.png' % (n, n), stitched_filters)"
   ]
  },
  {
   "cell_type": "code",
   "execution_count": null,
   "metadata": {
    "collapsed": true
   },
   "outputs": [],
   "source": []
  },
  {
   "cell_type": "code",
   "execution_count": null,
   "metadata": {
    "collapsed": true
   },
   "outputs": [],
   "source": []
  },
  {
   "cell_type": "markdown",
   "metadata": {},
   "source": [
    "## Predict based on the test data"
   ]
  },
  {
   "cell_type": "code",
   "execution_count": 368,
   "metadata": {
    "collapsed": false
   },
   "outputs": [],
   "source": [
    "# Load the test data\n",
    "def load_test_images(test_images_dir):\n",
    "    total = 0\n",
    "    images = []\n",
    "    image_ids = []\n",
    "    test_image_list = os.listdir(test_images_dir)\n",
    "    num_test_images = len(test_image_list)\n",
    "    for i in range(0,num_test_images):\n",
    "        filename = test_images_dir + test_image_list[i]\n",
    "        image = cv2.imread(filename, 0).transpose()  # Is the color_type needed here as these are pre-processed images??\n",
    "        images.append(image)  \n",
    "        image_ids.append(test_image_list[i])\n",
    "        total += 1\n",
    "        if total % 100 == 0:\n",
    "            print \".\",\n",
    "    print \"\\nProcesses {} rows.\".format(total)\n",
    "    \n",
    "    images = np.array(images, dtype=np.uint8)\n",
    "    images = images.reshape(images.shape[0], color_type, image_width, image_height)\n",
    "    images = images.astype('float32')\n",
    "    images /= 255\n",
    "    \n",
    "    return images, np.array(image_ids)\n",
    "\n",
    "#test_image_batches = split_test_data(test_images_dir)"
   ]
  },
  {
   "cell_type": "code",
   "execution_count": 364,
   "metadata": {
    "collapsed": false
   },
   "outputs": [
    {
     "name": "stdout",
     "output_type": "stream",
     "text": [
      ". . . . . . . . . . . . . . . . . . . . . . . . . . . . . . . . . . . . . . . . . . . . . . . . . . . . . . . . . . . . . . . . . . . . . . . . . . . . . . . . . . . . . . . . . . . . . . . . . . . . . . . . . . . . . . . . . . . . . . . . . . . . . . . . . . . . . . . . . . . . . . . . . . . . . . . . . . . . . . . . . . . . . . . . . . . . . . . . . . . . . . . . . . . . . . . . . . . . . . . . . . . . . . . . . . . . . . . . . . . . . . . . . . . . . . . . . . . . . . . . . . . . . . . . . . . . . . . . . . . . . . . . . . . . . . . . . . . . . . . . . . . . . . . . . . . . . . . . . . . . . . . . . . . . . . . . . . . . . . . . . . . . . . . . . . . . . . . . . . . . . . . . . . . . . . . . . . . . . . . . . . . . . . . . . . . . . . . . . . . . . . . . . . . . . . . . . . . . . . . . . . . . . . . . . . . . . . . . . . . . . . . . . . . . . . . . . . . . . . . . . . . . . . . . . . . . . . . . . . . . . . . . . . . . . . . . . . . . . . . . . . . . . . . . . . . . . . . . . . . . . . . . . . . . . . . . . . . . . . . . . . . . . . . . . . . . . . . . . . . . . . . . . . . . . . . . . . . . . . . . . . . . . . . . . . . . . . . . . . . . . . . . . . . . . . . . . . . . . . . . . . . . . . . . . . . . . . . . . . . . . . . . . . . . . . . . . . . . . . . . . . . . . . . . . . . . . . . . . . . . . . . . . . . . . . . . . . . . . . . . . . . . . . . . . . . . . . . . . . . . . . . . . . . . . . . . . . . . . . . . . . . . . . . . . . . . . . . . . . . . . . . . . . . . . . . . . . . . . . . . . . . . . . . . . . . . . . . . . . . . . . . . . . . . . . . . . . . . . \n",
      "Processes 79726 rows.\n",
      "(79726, 1, 80, 60)\n",
      "(79726,)\n"
     ]
    }
   ],
   "source": [
    "test_data, test_ids = load_test_images(test_images_dir)  \n",
    "print test_data.shape\n",
    "print test_ids.shape"
   ]
  },
  {
   "cell_type": "code",
   "execution_count": 365,
   "metadata": {
    "collapsed": false
   },
   "outputs": [
    {
     "name": "stdout",
     "output_type": "stream",
     "text": [
      "79726/79726 [==============================] - 55s    \n"
     ]
    }
   ],
   "source": [
    "predictions = model.predict(test_data, batch_size = 128, verbose = 1)"
   ]
  },
  {
   "cell_type": "code",
   "execution_count": 366,
   "metadata": {
    "collapsed": false
   },
   "outputs": [
    {
     "name": "stdout",
     "output_type": "stream",
     "text": [
      "(79726, 10)\n"
     ]
    }
   ],
   "source": [
    "print predictions.shape"
   ]
  },
  {
   "cell_type": "code",
   "execution_count": 367,
   "metadata": {
    "collapsed": false
   },
   "outputs": [],
   "source": [
    "import datetime\n",
    "def create_submission(predictions, test_ids, test_info):\n",
    "    result = pd.DataFrame(predictions, columns=['c0', 'c1', 'c2', 'c3', 'c4', 'c5', 'c6', 'c7', 'c8', 'c9'])\n",
    "    result.loc[:, 'img'] = pd.Series(test_ids, index=result.index)\n",
    "    now = datetime.datetime.now()\n",
    "    if not os.path.isdir('submission'):\n",
    "        os.mkdir('submission')\n",
    "    suffix = test_info + '_' + str(now.strftime(\"%Y-%m-%d-%H-%M\"))\n",
    "    sub_file = os.path.join('submission', 'submission_' + suffix + '.csv')\n",
    "    result.to_csv(sub_file, index=False)\n",
    "\n",
    "test_info = 'loss_' + str(score) \\\n",
    "                + '_h_' + str(image_height) \\\n",
    "                + '_w_' + str(image_width) \\\n",
    "                + '_ep_' + str(num_epochs)\n",
    "create_submission(predictions, test_ids, test_info)"
   ]
  },
  {
   "cell_type": "code",
   "execution_count": null,
   "metadata": {
    "collapsed": true
   },
   "outputs": [],
   "source": []
  },
  {
   "cell_type": "markdown",
   "metadata": {},
   "source": [
    "###VGG16 model\n",
    "From https://gist.github.com/baraldilorenzo/07d7802847aaad0a35d3\n",
    "Also see:\n",
    "http://blog.christianperone.com/2016/01/convolutional-hypercolumns-in-python/\n"
   ]
  },
  {
   "cell_type": "code",
   "execution_count": 16,
   "metadata": {
    "collapsed": true
   },
   "outputs": [],
   "source": [
    "def vgg16(num_classes, weights_path=None):\n",
    "    \n",
    "    # Create callback for history report\n",
    "    from keras.callbacks import Callback\n",
    "    class LossHistory(Callback):\n",
    "        def on_train_begin(self, logs={}):\n",
    "            self.losses = []\n",
    "\n",
    "        def on_batch_end(self, batch, logs={}):\n",
    "            self.losses.append(logs.get('loss'))\n",
    "\n",
    "    model = Sequential()\n",
    "    \n",
    "    model.add(ZeroPadding2D((1,1),input_shape=(3,224,224)))\n",
    "    model.add(Convolution2D(64, 3, 3, activation='relu'))\n",
    "    model.add(ZeroPadding2D((1,1)))\n",
    "    model.add(Convolution2D(64, 3, 3, activation='relu'))\n",
    "    model.add(MaxPooling2D((2,2), strides=(2,2)))\n",
    "\n",
    "    model.add(ZeroPadding2D((1,1)))\n",
    "    model.add(Convolution2D(128, 3, 3, activation='relu'))\n",
    "    model.add(ZeroPadding2D((1,1)))\n",
    "    model.add(Convolution2D(128, 3, 3, activation='relu'))\n",
    "    model.add(MaxPooling2D((2,2), strides=(2,2)))\n",
    "\n",
    "    model.add(ZeroPadding2D((1,1)))\n",
    "    model.add(Convolution2D(256, 3, 3, activation='relu'))\n",
    "    model.add(ZeroPadding2D((1,1)))\n",
    "    model.add(Convolution2D(256, 3, 3, activation='relu'))\n",
    "    model.add(ZeroPadding2D((1,1)))\n",
    "    model.add(Convolution2D(256, 3, 3, activation='relu'))\n",
    "    model.add(MaxPooling2D((2,2), strides=(2,2)))\n",
    "\n",
    "    model.add(ZeroPadding2D((1,1)))\n",
    "    model.add(Convolution2D(512, 3, 3, activation='relu'))\n",
    "    model.add(ZeroPadding2D((1,1)))\n",
    "    model.add(Convolution2D(512, 3, 3, activation='relu'))\n",
    "    model.add(ZeroPadding2D((1,1)))\n",
    "    model.add(Convolution2D(512, 3, 3, activation='relu'))\n",
    "    model.add(MaxPooling2D((2,2), strides=(2,2)))\n",
    "\n",
    "    model.add(ZeroPadding2D((1,1)))\n",
    "    model.add(Convolution2D(512, 3, 3, activation='relu'))\n",
    "    model.add(ZeroPadding2D((1,1)))\n",
    "    model.add(Convolution2D(512, 3, 3, activation='relu'))\n",
    "    model.add(ZeroPadding2D((1,1)))\n",
    "    model.add(Convolution2D(512, 3, 3, activation='relu'))\n",
    "    model.add(MaxPooling2D((2,2), strides=(2,2)))\n",
    "\n",
    "    model.add(Flatten())\n",
    "    model.add(Dense(4096, activation='relu'))\n",
    "    model.add(Dropout(0.5))\n",
    "    model.add(Dense(4096, activation='relu'))\n",
    "    model.add(Dropout(0.5))\n",
    "    model.add(Dense(1000, activation='softmax'))\n",
    "\n",
    "    if weights_path:\n",
    "        print \"Loading weights from {}\".format(weights_path)\n",
    "        model.load_weights(weights_path)\n",
    "        \n",
    "    # Now replace the top layer with one for our own purposes\n",
    "    model.layers.pop()\n",
    "    model.add(Dense(num_classes, activation='softmax'))\n",
    "\n",
    "    #TODO - Rework model based on \n",
    "    return model, LossHistory"
   ]
  }
 ],
 "metadata": {
  "kernelspec": {
   "display_name": "Python 2",
   "language": "python",
   "name": "python2"
  },
  "language_info": {
   "codemirror_mode": {
    "name": "ipython",
    "version": 2
   },
   "file_extension": ".py",
   "mimetype": "text/x-python",
   "name": "python",
   "nbconvert_exporter": "python",
   "pygments_lexer": "ipython2",
   "version": "2.7.11"
  }
 },
 "nbformat": 4,
 "nbformat_minor": 0
}
